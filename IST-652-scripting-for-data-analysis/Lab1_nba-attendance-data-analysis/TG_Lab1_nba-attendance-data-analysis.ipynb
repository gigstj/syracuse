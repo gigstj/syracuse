{
 "cells": [
  {
   "attachments": {},
   "cell_type": "markdown",
   "metadata": {},
   "source": [
    "Class: IST 652  \n",
    "Section: M403  \n",
    "Assignment: Lab 1    \n",
    "Due Date: 4/20/2021  "
   ]
  },
  {
   "cell_type": "code",
   "execution_count": 1,
   "metadata": {},
   "outputs": [],
   "source": [
    "#open the file; create empty list\n",
    "NBAfile = open ('nba-attendance-1989.txt', 'r'); NBAlist = []"
   ]
  },
  {
   "cell_type": "code",
   "execution_count": 2,
   "metadata": {},
   "outputs": [],
   "source": [
    "#retrieve the data from the file\n",
    "for NBAline in NBAfile:\n",
    "    linecontent = NBAline.strip()\n",
    "    lineitems = linecontent.split()\n",
    "    NBAdict = {}\n",
    "    NBAdict['team'] = lineitems[0]\n",
    "    NBAdict['attendance'] = int(lineitems[1])\n",
    "    NBAdict['ticketprice'] = float(lineitems[2])\n",
    "    NBAlist.append(NBAdict)"
   ]
  },
  {
   "cell_type": "code",
   "execution_count": 3,
   "metadata": {},
   "outputs": [
    {
     "name": "stdout",
     "output_type": "stream",
     "text": [
      "The attendnace at Atlanta was 13993 and the ticket price was $20.06\n",
      "The attendnace at Boston was 14916 and the ticket price was $22.54\n",
      "The attendnace at Charlotte was 23901 and the ticket price was $17.00\n",
      "The attendnace at Chicago was 18404 and the ticket price was $21.98\n",
      "The attendnace at Cleveland was 16969 and the ticket price was $19.63\n",
      "The attendnace at Dallas was 16868 and the ticket price was $17.05\n",
      "The attendnace at Denver was 12668 and the ticket price was $17.40\n",
      "The attendnace at Detroit was 21454 and the ticket price was $24.42\n",
      "The attendnace at Golden_State was 15025 and the ticket price was $17.04\n",
      "The attendnace at Houston was 15846 and the ticket price was $17.56\n",
      "The attendnace at Indiana was 12885 and the ticket price was $13.77\n",
      "The attendnace at LA_Clippers was 11869 and the ticket price was $21.95\n",
      "The attendnace at LA_Lakers was 17378 and the ticket price was $29.18\n",
      "The attendnace at Miami was 15008 and the ticket price was $17.60\n",
      "The attendnace at Milwaukee was 16088 and the ticket price was $14.08\n",
      "The attendnace at Minnesota was 26160 and the ticket price was $10.92\n",
      "The attendnace at New_Jersey was 12160 and the ticket price was $13.31\n",
      "The attendnace at New_York was 17815 and the ticket price was $22.70\n",
      "The attendnace at Orlando was 15606 and the ticket price was $20.47\n",
      "The attendnace at Philadelphia was 14017 and the ticket price was $19.04\n",
      "The attendnace at Phoenix was 14114 and the ticket price was $16.59\n",
      "The attendnace at Portland was 12884 and the ticket price was $22.19\n",
      "The attendnace at Sacramento was 17014 and the ticket price was $16.96\n",
      "The attendnace at San_Antonio was 14722 and the ticket price was $16.79\n",
      "The attendnace at Seattle was 12244 and the ticket price was $18.11\n",
      "The attendnace at Utah was 12616 and the ticket price was $18.41\n",
      "The attendnace at Washington was 11565 and the ticket price was $14.55\n"
     ]
    }
   ],
   "source": [
    "#print out the lines accordingly\n",
    "for NBAline in NBAlist:\n",
    "    print('The attendnace at', NBAline['team'], 'was', \n",
    "          '{:.0f}'.format(NBAline['attendance']),\n",
    "          'and the ticket price was',\n",
    "          '${:.2f}'.format(NBAline['ticketprice']))"
   ]
  },
  {
   "cell_type": "code",
   "execution_count": 4,
   "metadata": {},
   "outputs": [],
   "source": [
    "#close out the file\n",
    "NBAfile.close()"
   ]
  }
 ],
 "metadata": {
  "kernelspec": {
   "display_name": "Python 3",
   "language": "python",
   "name": "python3"
  },
  "language_info": {
   "codemirror_mode": {
    "name": "ipython",
    "version": 3
   },
   "file_extension": ".py",
   "mimetype": "text/x-python",
   "name": "python",
   "nbconvert_exporter": "python",
   "pygments_lexer": "ipython3",
   "version": "3.8.5"
  }
 },
 "nbformat": 4,
 "nbformat_minor": 4
}
