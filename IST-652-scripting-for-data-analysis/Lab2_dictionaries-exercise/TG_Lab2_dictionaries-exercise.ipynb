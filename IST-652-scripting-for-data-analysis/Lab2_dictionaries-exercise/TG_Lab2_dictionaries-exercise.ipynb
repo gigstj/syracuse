{
 "cells": [
  {
   "cell_type": "code",
   "execution_count": 1,
   "metadata": {},
   "outputs": [],
   "source": [
    "#Class: IST 652  \n",
    "#Section: M403  \n",
    "#Assignment: Lab 2   \n",
    "#Due Date: 4/27/2021  "
   ]
  },
  {
   "cell_type": "code",
   "execution_count": 2,
   "metadata": {},
   "outputs": [],
   "source": [
    "#consider the following two dictionaries\n",
    "\n",
    "stock = {\"banana\": 6, \"apple\": 0, \"orange\": 32, \"pear\": 15}\n",
    "prices = {\"banana\": 4, \"apple\": 2, \"orange\": 1.5, \"pear\": 3}"
   ]
  },
  {
   "cell_type": "code",
   "execution_count": 3,
   "metadata": {},
   "outputs": [
    {
     "data": {
      "text/plain": [
       "32"
      ]
     },
     "execution_count": 3,
     "metadata": {},
     "output_type": "execute_result"
    }
   ],
   "source": [
    "#show the expression that gets the value of the stock dictionary at the key 'orange'\n",
    "\n",
    "stock['orange']"
   ]
  },
  {
   "cell_type": "code",
   "execution_count": 4,
   "metadata": {},
   "outputs": [],
   "source": [
    "#show a statement that adds an item to the stock dictionary called 'cherry' with some\n",
    "#integer value and that adds 'cherry' to the prices dictionary with a numeric value\n",
    "\n",
    "stock['pineapple'] = 5\n",
    "prices['pineapple'] = 2.5"
   ]
  },
  {
   "cell_type": "code",
   "execution_count": 5,
   "metadata": {},
   "outputs": [
    {
     "name": "stdout",
     "output_type": "stream",
     "text": [
      "banana\n",
      "apple\n",
      "orange\n",
      "pear\n",
      "pineapple\n"
     ]
    }
   ],
   "source": [
    "#write the code for a loop that iterates over the stock dictionary and prints each key value\n",
    "\n",
    "for key in list(stock.keys()): print(key)"
   ]
  },
  {
   "cell_type": "code",
   "execution_count": 7,
   "metadata": {},
   "outputs": [
    {
     "data": {
      "text/plain": [
       "21"
      ]
     },
     "execution_count": 7,
     "metadata": {},
     "output_type": "execute_result"
    }
   ],
   "source": [
    "#suppose that we have a list\n",
    "\n",
    "groceries = ['apple', 'banana', 'pear'] \n",
    "\n",
    "#write the code that will sum the total number in stock of the items in the groceries list\n",
    "\n",
    "stock[groceries[0]] + stock[groceries[1]] + stock[groceries[2]]"
   ]
  },
  {
   "cell_type": "code",
   "execution_count": 8,
   "metadata": {},
   "outputs": [
    {
     "name": "stdout",
     "output_type": "stream",
     "text": [
      "$129.50\n"
     ]
    }
   ],
   "source": [
    "#write the code that can print out the total value in stock of all the items. This program can\n",
    "#iterate over the stock dictionary and for each item multiply the number in stock times the price of that\n",
    "#item in the prices dictionary.\n",
    "\n",
    "totalvalue = 0\n",
    "\n",
    "for item in stock:\n",
    "    instock = stock[item]\n",
    "    price = prices[item]\n",
    "    value = instock * price\n",
    "    totalvalue += value\n",
    "    \n",
    "print('${:.2f}'.format(totalvalue))"
   ]
  }
 ],
 "metadata": {
  "kernelspec": {
   "display_name": "Python 3",
   "language": "python",
   "name": "python3"
  },
  "language_info": {
   "codemirror_mode": {
    "name": "ipython",
    "version": 3
   },
   "file_extension": ".py",
   "mimetype": "text/x-python",
   "name": "python",
   "nbconvert_exporter": "python",
   "pygments_lexer": "ipython3",
   "version": "3.8.5"
  }
 },
 "nbformat": 4,
 "nbformat_minor": 4
}
