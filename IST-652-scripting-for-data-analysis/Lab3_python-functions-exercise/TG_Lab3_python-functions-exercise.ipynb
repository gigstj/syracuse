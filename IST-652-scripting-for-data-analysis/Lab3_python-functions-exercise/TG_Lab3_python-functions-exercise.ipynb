{
 "cells": [
  {
   "cell_type": "code",
   "execution_count": 1,
   "metadata": {},
   "outputs": [],
   "source": [
    "#Class: IST 652  \n",
    "#Section: M403  \n",
    "#Assignment: Lab 3  \n",
    "#Due Date: 5/21/2021  "
   ]
  },
  {
   "cell_type": "code",
   "execution_count": 2,
   "metadata": {},
   "outputs": [],
   "source": [
    "# Write a Python function to multiply all the numbers in a list.\n",
    "\n",
    "def listmultiplier(*args):\n",
    "    result = args[0]\n",
    "    for arg in args[1:]:\n",
    "        result *= arg\n",
    "    return result\n",
    "    "
   ]
  },
  {
   "cell_type": "code",
   "execution_count": 3,
   "metadata": {},
   "outputs": [
    {
     "name": "stdout",
     "output_type": "stream",
     "text": [
      "List 1 Result: 100.00\n",
      "List 2 Result: 640.00\n",
      "List 3 Result: -118.80\n"
     ]
    }
   ],
   "source": [
    "# Execute the function with at least 3 different lists of numbers.\n",
    "\n",
    "print('List 1 Result:', '{:.2f}'.format(listmultiplier(1, 5, 10, 2)))\n",
    "print('List 2 Result:', '{:.2f}'.format(listmultiplier((100/5), (pow(2, 5)))))\n",
    "print('List 3 Result:', '{:.2f}'.format(listmultiplier(2.5, 1.2, 9.9, -4.0, 1)))\n"
   ]
  },
  {
   "cell_type": "code",
   "execution_count": 4,
   "metadata": {},
   "outputs": [],
   "source": [
    "# Write a Python function that accepts a string and calculate\n",
    "# the number of upper case letters and lower case letters.\n",
    "\n",
    "def upperlower(stringarg):\n",
    "    uppercounter = 0\n",
    "    lowercounter = 0\n",
    "    for letter in stringarg:\n",
    "        if letter.isupper():\n",
    "            uppercounter += 1\n",
    "        elif letter.islower():\n",
    "            lowercounter += 1\n",
    "        else:\n",
    "            pass\n",
    "    print('Number of Upper Case Letters:', '{:.0f}'.format(uppercounter))\n",
    "    print('Number of Lower Case Letters:', '{:.0f}'.format(lowercounter), '\\n')\n"
   ]
  },
  {
   "cell_type": "code",
   "execution_count": 5,
   "metadata": {},
   "outputs": [
    {
     "name": "stdout",
     "output_type": "stream",
     "text": [
      "Number of Upper Case Letters: 2\n",
      "Number of Lower Case Letters: 14 \n",
      "\n",
      "Number of Upper Case Letters: 3\n",
      "Number of Lower Case Letters: 17 \n",
      "\n"
     ]
    }
   ],
   "source": [
    "# Execute the function with at least 2 different phrases.\n",
    "\n",
    "upperlower('Python is fun Sauce')\n",
    "upperlower('Breakfast Lunch Dinner')"
   ]
  }
 ],
 "metadata": {
  "kernelspec": {
   "display_name": "Python 3",
   "language": "python",
   "name": "python3"
  },
  "language_info": {
   "codemirror_mode": {
    "name": "ipython",
    "version": 3
   },
   "file_extension": ".py",
   "mimetype": "text/x-python",
   "name": "python",
   "nbconvert_exporter": "python",
   "pygments_lexer": "ipython3",
   "version": "3.8.5"
  }
 },
 "nbformat": 4,
 "nbformat_minor": 4
}
