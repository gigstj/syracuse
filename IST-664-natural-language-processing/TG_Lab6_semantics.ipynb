{
 "cells": [
  {
   "cell_type": "code",
   "execution_count": 1,
   "metadata": {},
   "outputs": [],
   "source": [
    "# Import NLTK package\n",
    "import nltk"
   ]
  },
  {
   "cell_type": "code",
   "execution_count": 2,
   "metadata": {},
   "outputs": [],
   "source": [
    "# Import wordnet and shorten its name to wn\n",
    "from nltk.corpus import wordnet as wn"
   ]
  },
  {
   "cell_type": "code",
   "execution_count": 6,
   "metadata": {},
   "outputs": [
    {
     "data": {
      "text/plain": [
       "[Synset('ball.n.01'),\n",
       " Synset('musket_ball.n.01'),\n",
       " Synset('ball.n.03'),\n",
       " Synset('ball.n.04'),\n",
       " Synset('testis.n.01'),\n",
       " Synset('ball.n.06'),\n",
       " Synset('ball.n.07'),\n",
       " Synset('ball.n.08'),\n",
       " Synset('ball.n.09'),\n",
       " Synset('ball.n.10'),\n",
       " Synset('ball.n.11'),\n",
       " Synset('ball.n.12'),\n",
       " Synset('ball.v.01')]"
      ]
     },
     "execution_count": 6,
     "metadata": {},
     "output_type": "execute_result"
    }
   ],
   "source": [
    "# Show the synsets for a word\n",
    "wn.synsets(\"ball\")"
   ]
  },
  {
   "cell_type": "code",
   "execution_count": 10,
   "metadata": {},
   "outputs": [
    {
     "name": "stdout",
     "output_type": "stream",
     "text": [
      "['ball']\n",
      "['musket_ball', 'ball']\n",
      "['ball', 'globe', 'orb']\n",
      "['ball']\n",
      "['testis', 'testicle', 'orchis', 'ball', 'ballock', 'bollock', 'nut', 'egg']\n",
      "['ball']\n",
      "['Ball', 'Lucille_Ball']\n",
      "['ball', 'clod', 'glob', 'lump', 'clump', 'chunk']\n",
      "['ball', 'formal']\n",
      "['ball']\n",
      "['ball']\n",
      "['ball']\n",
      "['ball']\n"
     ]
    }
   ],
   "source": [
    "# Show the lemma names\n",
    "for synset in wn.synsets(\"ball\"):\n",
    "    print(synset.lemma_names())"
   ]
  },
  {
   "cell_type": "code",
   "execution_count": 11,
   "metadata": {},
   "outputs": [
    {
     "name": "stdout",
     "output_type": "stream",
     "text": [
      "Synset('ball.n.01') :  round object that is hit or thrown or kicked in games\n",
      "Synset('musket_ball.n.01') :  a solid projectile that is shot by a musket\n",
      "Synset('ball.n.03') :  an object with a spherical shape\n",
      "Synset('ball.n.04') :  the people assembled at a lavish formal dance\n",
      "Synset('testis.n.01') :  one of the two male reproductive glands that produce spermatozoa and secrete androgens\n",
      "Synset('ball.n.06') :  a spherical object used as a plaything\n",
      "Synset('ball.n.07') :  United States comedienne best known as the star of a popular television program (1911-1989)\n",
      "Synset('ball.n.08') :  a compact mass\n",
      "Synset('ball.n.09') :  a lavish dance requiring formal attire\n",
      "Synset('ball.n.10') :  a more or less rounded anatomical body or mass\n",
      "Synset('ball.n.11') :  the game of baseball\n",
      "Synset('ball.n.12') :  a pitch that is not in the strike zone\n",
      "Synset('ball.v.01') :  form into a ball by winding or rolling\n"
     ]
    }
   ],
   "source": [
    "# Show definitions\n",
    "for synset in wn.synsets(\"ball\"):\n",
    "    print(synset, \": \", synset.definition())"
   ]
  },
  {
   "cell_type": "code",
   "execution_count": 12,
   "metadata": {},
   "outputs": [
    {
     "name": "stdout",
     "output_type": "stream",
     "text": [
      "Synset('ball.n.01') :  ['the ball travelled 90 mph on his serve', 'the mayor threw out the first ball', 'the ball rolled into the corner pocket']\n",
      "Synset('musket_ball.n.01') :  ['they had to carry a ramrod as well as powder and ball']\n",
      "Synset('ball.n.03') :  ['a ball of fire']\n",
      "Synset('ball.n.04') :  ['the ball was already emptying out before the fire alarm sounded']\n",
      "Synset('testis.n.01') :  ['she kicked him in the balls and got away']\n",
      "Synset('ball.n.06') :  ['he played with his rubber ball in the bathtub']\n",
      "Synset('ball.n.07') :  []\n",
      "Synset('ball.n.08') :  ['a ball of mud caught him on the shoulder']\n",
      "Synset('ball.n.09') :  []\n",
      "Synset('ball.n.10') :  ['the ball at the base of the thumb', 'he stood on the balls of his feet']\n",
      "Synset('ball.n.11') :  []\n",
      "Synset('ball.n.12') :  ['he threw nine straight balls before the manager yanked him']\n",
      "Synset('ball.v.01') :  ['ball wool']\n"
     ]
    }
   ],
   "source": [
    "# Show examples\n",
    "for synset in wn.synsets(\"ball\"):\n",
    "    print(synset, \": \", synset.examples())"
   ]
  },
  {
   "cell_type": "code",
   "execution_count": 13,
   "metadata": {},
   "outputs": [
    {
     "data": {
      "text/plain": [
       "[Synset('game_equipment.n.01')]"
      ]
     },
     "execution_count": 13,
     "metadata": {},
     "output_type": "execute_result"
    }
   ],
   "source": [
    "# Show all the direct hypernyms for one synset of the word\n",
    "ball1 = wn.synset(\"ball.n.01\")\n",
    "ball1.hypernyms()"
   ]
  },
  {
   "cell_type": "code",
   "execution_count": 16,
   "metadata": {},
   "outputs": [
    {
     "name": "stdout",
     "output_type": "stream",
     "text": [
      "[[Synset('entity.n.01'), Synset('physical_entity.n.01'), Synset('object.n.01'), Synset('whole.n.02'), Synset('artifact.n.01'), Synset('instrumentality.n.03'), Synset('equipment.n.01'), Synset('game_equipment.n.01'), Synset('ball.n.01')]]\n"
     ]
    }
   ],
   "source": [
    "# Show the hypernym path\n",
    "paths = ball1.hypernym_paths()\n",
    "print(paths)"
   ]
  },
  {
   "cell_type": "code",
   "execution_count": 17,
   "metadata": {},
   "outputs": [],
   "source": [
    "## SentiWordNet\n",
    "from nltk.corpus import sentiwordnet as swn"
   ]
  },
  {
   "cell_type": "code",
   "execution_count": 18,
   "metadata": {},
   "outputs": [
    {
     "name": "stdout",
     "output_type": "stream",
     "text": [
      "[SentiSynset('ball.n.01'), SentiSynset('musket_ball.n.01'), SentiSynset('ball.n.03'), SentiSynset('ball.n.04'), SentiSynset('testis.n.01'), SentiSynset('ball.n.06'), SentiSynset('ball.n.07'), SentiSynset('ball.n.08'), SentiSynset('ball.n.09'), SentiSynset('ball.n.10'), SentiSynset('ball.n.11'), SentiSynset('ball.n.12'), SentiSynset('ball.v.01')]\n",
      "[Synset('ball.n.01'), Synset('musket_ball.n.01'), Synset('ball.n.03'), Synset('ball.n.04'), Synset('testis.n.01'), Synset('ball.n.06'), Synset('ball.n.07'), Synset('ball.n.08'), Synset('ball.n.09'), Synset('ball.n.10'), Synset('ball.n.11'), Synset('ball.n.12'), Synset('ball.v.01')]\n"
     ]
    }
   ],
   "source": [
    "print(list(swn.senti_synsets('ball')))\n",
    "print(wn.synsets('ball'))"
   ]
  },
  {
   "cell_type": "code",
   "execution_count": 20,
   "metadata": {},
   "outputs": [
    {
     "name": "stdout",
     "output_type": "stream",
     "text": [
      "<ball.n.01: PosScore=0.0 NegScore=0.0>\n"
     ]
    }
   ],
   "source": [
    "# the print function gives the positive and negative scores\n",
    "breakdown3 = swn.senti_synset('ball.n.01')\n",
    "print (breakdown3)"
   ]
  }
 ],
 "metadata": {
  "interpreter": {
   "hash": "837a5e7ae28b4e198c1d8cf4796a058d56e0b65e3e1483208ccae61f9a209f4c"
  },
  "kernelspec": {
   "display_name": "Python 3.8.8 64-bit ('base': conda)",
   "language": "python",
   "name": "python3"
  },
  "language_info": {
   "codemirror_mode": {
    "name": "ipython",
    "version": 3
   },
   "file_extension": ".py",
   "mimetype": "text/x-python",
   "name": "python",
   "nbconvert_exporter": "python",
   "pygments_lexer": "ipython3",
   "version": "3.8.8"
  },
  "orig_nbformat": 4
 },
 "nbformat": 4,
 "nbformat_minor": 2
}
