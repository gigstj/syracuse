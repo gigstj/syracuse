{
 "cells": [
  {
   "cell_type": "code",
   "execution_count": 1,
   "metadata": {},
   "outputs": [],
   "source": [
    "# Import nltk\n",
    "import nltk"
   ]
  },
  {
   "cell_type": "code",
   "execution_count": 2,
   "metadata": {},
   "outputs": [],
   "source": [
    "# Define a feature extraction function for each name\n",
    "def gender_features(word):\n",
    "    return{'last_letter': word[-1]}"
   ]
  },
  {
   "cell_type": "code",
   "execution_count": 3,
   "metadata": {},
   "outputs": [
    {
     "name": "stdout",
     "output_type": "stream",
     "text": [
      "{'last_letter': 'k'}\n"
     ]
    }
   ],
   "source": [
    "# Try out the feature extraction function for a name\n",
    "print(gender_features('Shrek'))"
   ]
  },
  {
   "cell_type": "code",
   "execution_count": 4,
   "metadata": {},
   "outputs": [
    {
     "name": "stdout",
     "output_type": "stream",
     "text": [
      "['Aamir', 'Aaron', 'Abbey', 'Abbie', 'Abbot', 'Abbott', 'Abby', 'Abdel', 'Abdul', 'Abdulkarim', 'Abdullah', 'Abe', 'Abel', 'Abelard', 'Abner', 'Abraham', 'Abram', 'Ace', 'Adair', 'Adam']\n",
      "['Abagael', 'Abagail', 'Abbe', 'Abbey', 'Abbi', 'Abbie', 'Abby', 'Abigael', 'Abigail', 'Abigale', 'Abra', 'Acacia', 'Ada', 'Adah', 'Adaline', 'Adara', 'Addie', 'Addis', 'Adel', 'Adela']\n"
     ]
    }
   ],
   "source": [
    "# Resource for male and female first names\n",
    "from nltk.corpus import names\n",
    "print(names.words('male.txt')[:20])\n",
    "print(names.words('female.txt')[:20])"
   ]
  },
  {
   "cell_type": "code",
   "execution_count": 5,
   "metadata": {},
   "outputs": [
    {
     "name": "stdout",
     "output_type": "stream",
     "text": [
      "7944\n",
      "[('Aamir', 'male'), ('Aaron', 'male'), ('Abbey', 'male'), ('Abbie', 'male'), ('Abbot', 'male'), ('Abbott', 'male'), ('Abby', 'male'), ('Abdel', 'male'), ('Abdul', 'male'), ('Abdulkarim', 'male'), ('Abdullah', 'male'), ('Abe', 'male'), ('Abel', 'male'), ('Abelard', 'male'), ('Abner', 'male'), ('Abraham', 'male'), ('Abram', 'male'), ('Ace', 'male'), ('Adair', 'male'), ('Adam', 'male')]\n",
      "[('Zena', 'female'), ('Zenia', 'female'), ('Zia', 'female'), ('Zilvia', 'female'), ('Zita', 'female'), ('Zitella', 'female'), ('Zoe', 'female'), ('Zola', 'female'), ('Zonda', 'female'), ('Zondra', 'female'), ('Zonnya', 'female'), ('Zora', 'female'), ('Zorah', 'female'), ('Zorana', 'female'), ('Zorina', 'female'), ('Zorine', 'female'), ('Zsa Zsa', 'female'), ('Zsazsa', 'female'), ('Zulema', 'female'), ('Zuzana', 'female')]\n"
     ]
    }
   ],
   "source": [
    "# make list of male and female names paired with gender\n",
    "namesgender = ([(name, 'male') for name in names.words('male.txt')] +\n",
    "          [(name, 'female') for name in names.words('female.txt')])\n",
    "print(len(namesgender))\n",
    "print(namesgender[:20])\n",
    "print(namesgender[7924:])"
   ]
  },
  {
   "cell_type": "code",
   "execution_count": 6,
   "metadata": {},
   "outputs": [
    {
     "name": "stdout",
     "output_type": "stream",
     "text": [
      "[('Phillipe', 'male'), ('Tibold', 'male'), ('Silvano', 'male'), ('Ronald', 'male'), ('Torr', 'male'), ('Linoel', 'male'), ('Brook', 'male'), ('Brodie', 'male'), ('Valma', 'female'), ('Vikki', 'female'), ('Dawn', 'female'), ('Marcille', 'female'), ('Kaleb', 'male'), ('Mag', 'female'), ('Godart', 'male'), ('Dixie', 'female'), ('Bidget', 'female'), ('Noam', 'male'), ('Ivie', 'female'), ('Meris', 'female')]\n"
     ]
    }
   ],
   "source": [
    "# put the list into random order\n",
    "import random\n",
    "random.shuffle(namesgender)\n",
    "print(namesgender[:20])"
   ]
  },
  {
   "cell_type": "code",
   "execution_count": 7,
   "metadata": {},
   "outputs": [],
   "source": [
    "# separate the names into training and test\n",
    "train_names = namesgender[500:]\n",
    "test_names = namesgender[:500]"
   ]
  },
  {
   "cell_type": "code",
   "execution_count": 8,
   "metadata": {},
   "outputs": [
    {
     "name": "stdout",
     "output_type": "stream",
     "text": [
      "[({'last_letter': 'a'}, 'female'), ({'last_letter': 'e'}, 'female'), ({'last_letter': 'a'}, 'female'), ({'last_letter': 'e'}, 'male'), ({'last_letter': 'i'}, 'male'), ({'last_letter': 'l'}, 'male'), ({'last_letter': 'n'}, 'male'), ({'last_letter': 'b'}, 'male'), ({'last_letter': 'n'}, 'male'), ({'last_letter': 'n'}, 'male'), ({'last_letter': 'e'}, 'male'), ({'last_letter': 'a'}, 'female'), ({'last_letter': 'e'}, 'female'), ({'last_letter': 'a'}, 'female'), ({'last_letter': 'y'}, 'male'), ({'last_letter': 'a'}, 'female'), ({'last_letter': 'y'}, 'male'), ({'last_letter': 'm'}, 'male'), ({'last_letter': 'y'}, 'male'), ({'last_letter': 'e'}, 'male')]\n"
     ]
    }
   ],
   "source": [
    "# use our features to train a classify and test on the development test set\n",
    "train_set = [(gender_features(n), g) for (n, g) in train_names]\n",
    "test_set = [(gender_features(n), g) for (n, g) in test_names]\n",
    "print(train_set[:20])"
   ]
  },
  {
   "cell_type": "code",
   "execution_count": 9,
   "metadata": {},
   "outputs": [],
   "source": [
    "classifier = nltk.NaiveBayesClassifier.train(train_set)"
   ]
  },
  {
   "cell_type": "code",
   "execution_count": 10,
   "metadata": {},
   "outputs": [
    {
     "name": "stdout",
     "output_type": "stream",
     "text": [
      "male\n",
      "female\n"
     ]
    }
   ],
   "source": [
    "# classify new instances\n",
    "print(classifier.classify(gender_features('Neo')))\n",
    "print(classifier.classify(gender_features('Trinity')))"
   ]
  },
  {
   "cell_type": "code",
   "execution_count": 11,
   "metadata": {},
   "outputs": [
    {
     "name": "stdout",
     "output_type": "stream",
     "text": [
      "0.73\n"
     ]
    }
   ],
   "source": [
    "# classify accuracy function runs the classifier on the test set and reports\n",
    "#   comparisons between predicted labels and actual/gold labels\n",
    "print(nltk.classify.accuracy(classifier, test_set))"
   ]
  },
  {
   "cell_type": "code",
   "execution_count": 12,
   "metadata": {},
   "outputs": [
    {
     "name": "stdout",
     "output_type": "stream",
     "text": [
      "Most Informative Features\n",
      "             last_letter = 'a'            female : male   =     34.3 : 1.0\n",
      "             last_letter = 'k'              male : female =     31.1 : 1.0\n",
      "             last_letter = 'f'              male : female =     15.4 : 1.0\n",
      "             last_letter = 'p'              male : female =     12.7 : 1.0\n",
      "             last_letter = 'm'              male : female =     10.7 : 1.0\n",
      "             last_letter = 'd'              male : female =     10.1 : 1.0\n",
      "             last_letter = 'v'              male : female =      9.9 : 1.0\n",
      "             last_letter = 'o'              male : female =      8.7 : 1.0\n",
      "             last_letter = 'r'              male : female =      7.2 : 1.0\n",
      "             last_letter = 'g'              male : female =      5.7 : 1.0\n",
      "             last_letter = 'w'              male : female =      5.4 : 1.0\n",
      "             last_letter = 'b'              male : female =      4.4 : 1.0\n",
      "             last_letter = 's'              male : female =      4.4 : 1.0\n",
      "             last_letter = 'z'              male : female =      4.4 : 1.0\n",
      "             last_letter = 't'              male : female =      4.2 : 1.0\n",
      "             last_letter = 'j'              male : female =      4.0 : 1.0\n",
      "             last_letter = 'i'            female : male   =      3.6 : 1.0\n",
      "             last_letter = 'u'              male : female =      3.3 : 1.0\n",
      "             last_letter = 'n'              male : female =      2.1 : 1.0\n",
      "             last_letter = 'e'            female : male   =      1.8 : 1.0\n",
      "None\n"
     ]
    }
   ],
   "source": [
    "# this function available for naive bayes classifiers\n",
    "print(classifier.show_most_informative_features(20))"
   ]
  },
  {
   "cell_type": "code",
   "execution_count": 13,
   "metadata": {},
   "outputs": [
    {
     "name": "stdout",
     "output_type": "stream",
     "text": [
      "135\n"
     ]
    }
   ],
   "source": [
    "# define a function that will compare the classifier labels with the gold standard labels\n",
    "def geterrors(test):\n",
    "    errors = []\n",
    "    for (name, tag) in test:\n",
    "        guess = classifier.classify(gender_features(name))\n",
    "        if guess != tag:\n",
    "            errors.append( (tag, guess, name) )\n",
    "    return errors\n",
    "\n",
    "errors = geterrors(test_names)\n",
    "print(len(errors))"
   ]
  },
  {
   "cell_type": "code",
   "execution_count": 14,
   "metadata": {},
   "outputs": [
    {
     "name": "stdout",
     "output_type": "stream",
     "text": [
      "correct=female   guess=male     name=Abagael                       \n",
      "correct=female   guess=male     name=Aleen                         \n",
      "correct=female   guess=male     name=Anne-Mar                      \n",
      "correct=female   guess=male     name=Bess                          \n",
      "correct=female   guess=male     name=Bidget                        \n",
      "correct=female   guess=male     name=Bill                          \n",
      "correct=female   guess=male     name=Brett                         \n",
      "correct=female   guess=male     name=Cal                           \n",
      "correct=female   guess=male     name=Camel                         \n",
      "correct=female   guess=male     name=Carilyn                       \n",
      "correct=female   guess=male     name=Carlen                        \n",
      "correct=female   guess=male     name=Carrol                        \n",
      "correct=female   guess=male     name=Cass                          \n",
      "correct=female   guess=male     name=Charil                        \n",
      "correct=female   guess=male     name=Charlott                      \n",
      "correct=female   guess=male     name=Charo                         \n",
      "correct=female   guess=male     name=Christabel                    \n",
      "correct=female   guess=male     name=Cinnamon                      \n",
      "correct=female   guess=male     name=Clo                           \n",
      "correct=female   guess=male     name=Cris                          \n",
      "correct=female   guess=male     name=Cyb                           \n",
      "correct=female   guess=male     name=Cybill                        \n",
      "correct=female   guess=male     name=Dawn                          \n",
      "correct=female   guess=male     name=Devon                         \n",
      "correct=female   guess=male     name=Diahann                       \n",
      "correct=female   guess=male     name=Doll                          \n",
      "correct=female   guess=male     name=Floris                        \n",
      "correct=female   guess=male     name=Flower                        \n",
      "correct=female   guess=male     name=Gail                          \n",
      "correct=female   guess=male     name=Ginnifer                      \n",
      "correct=female   guess=male     name=Hannis                        \n",
      "correct=female   guess=male     name=Heather                       \n",
      "correct=female   guess=male     name=Iris                          \n",
      "correct=female   guess=male     name=Jessamyn                      \n",
      "correct=female   guess=male     name=Joellen                       \n",
      "correct=female   guess=male     name=Jolyn                         \n",
      "correct=female   guess=male     name=Jolynn                        \n",
      "correct=female   guess=male     name=Karalynn                      \n",
      "correct=female   guess=male     name=Karylin                       \n",
      "correct=female   guess=male     name=Kim                           \n",
      "correct=female   guess=male     name=Lib                           \n",
      "correct=female   guess=male     name=Lois                          \n",
      "correct=female   guess=male     name=Mag                           \n",
      "correct=female   guess=male     name=Marabel                       \n",
      "correct=female   guess=male     name=Margaret                      \n",
      "correct=female   guess=male     name=Margot                        \n",
      "correct=female   guess=male     name=Marigold                      \n",
      "correct=female   guess=male     name=Marion                        \n",
      "correct=female   guess=male     name=Meris                         \n",
      "correct=female   guess=male     name=Mildred                       \n",
      "correct=female   guess=male     name=Millicent                     \n",
      "correct=female   guess=male     name=Murial                        \n",
      "correct=female   guess=male     name=Myriam                        \n",
      "correct=female   guess=male     name=Raychel                       \n",
      "correct=female   guess=male     name=Robyn                         \n",
      "correct=female   guess=male     name=Rosalynd                      \n",
      "correct=female   guess=male     name=Rosario                       \n",
      "correct=female   guess=male     name=Scarlett                      \n",
      "correct=female   guess=male     name=Shamit                        \n",
      "correct=female   guess=male     name=Shannen                       \n",
      "correct=female   guess=male     name=Sheryl                        \n",
      "correct=female   guess=male     name=Sibeal                        \n",
      "correct=female   guess=male     name=Storm                         \n",
      "correct=female   guess=male     name=Tamar                         \n",
      "correct=male     guess=female   name=Alfonse                       \n",
      "correct=male     guess=female   name=Allie                         \n",
      "correct=male     guess=female   name=Amory                         \n",
      "correct=male     guess=female   name=Artie                         \n",
      "correct=male     guess=female   name=Augustine                     \n",
      "correct=male     guess=female   name=Ave                           \n",
      "correct=male     guess=female   name=Bartholemy                    \n",
      "correct=male     guess=female   name=Benjie                        \n",
      "correct=male     guess=female   name=Benny                         \n",
      "correct=male     guess=female   name=Bobbie                        \n",
      "correct=male     guess=female   name=Brodie                        \n",
      "correct=male     guess=female   name=Chaunce                       \n",
      "correct=male     guess=female   name=Cyrille                       \n",
      "correct=male     guess=female   name=Deane                         \n",
      "correct=male     guess=female   name=Denny                         \n",
      "correct=male     guess=female   name=Drake                         \n",
      "correct=male     guess=female   name=Elroy                         \n",
      "correct=male     guess=female   name=Filmore                       \n",
      "correct=male     guess=female   name=George                        \n",
      "correct=male     guess=female   name=Geri                          \n",
      "correct=male     guess=female   name=Gerry                         \n",
      "correct=male     guess=female   name=Godfry                        \n",
      "correct=male     guess=female   name=Hercule                       \n",
      "correct=male     guess=female   name=Hewe                          \n",
      "correct=male     guess=female   name=Huntlee                       \n",
      "correct=male     guess=female   name=Jean-Christophe               \n",
      "correct=male     guess=female   name=Jeremiah                      \n",
      "correct=male     guess=female   name=Jerry                         \n",
      "correct=male     guess=female   name=Johny                         \n",
      "correct=male     guess=female   name=Jose                          \n",
      "correct=male     guess=female   name=Joseph                        \n",
      "correct=male     guess=female   name=Mackenzie                     \n",
      "correct=male     guess=female   name=Martie                        \n",
      "correct=male     guess=female   name=Micky                         \n",
      "correct=male     guess=female   name=Noach                         \n",
      "correct=male     guess=female   name=Orbadiah                      \n",
      "correct=male     guess=female   name=Ossie                         \n",
      "correct=male     guess=female   name=Ozzy                          \n",
      "correct=male     guess=female   name=Paddy                         \n",
      "correct=male     guess=female   name=Pattie                        \n",
      "correct=male     guess=female   name=Perry                         \n",
      "correct=male     guess=female   name=Phillipe                      \n",
      "correct=male     guess=female   name=Pierce                        \n",
      "correct=male     guess=female   name=Prince                        \n",
      "correct=male     guess=female   name=Ramesh                        \n",
      "correct=male     guess=female   name=Reggy                         \n",
      "correct=male     guess=female   name=Rich                          \n",
      "correct=male     guess=female   name=Ronnie                        \n",
      "correct=male     guess=female   name=Ronny                         \n",
      "correct=male     guess=female   name=Royce                         \n",
      "correct=male     guess=female   name=Rudolph                       \n",
      "correct=male     guess=female   name=Sascha                        \n",
      "correct=male     guess=female   name=Sawyere                       \n",
      "correct=male     guess=female   name=Sheffy                        \n",
      "correct=male     guess=female   name=Shurlocke                     \n",
      "correct=male     guess=female   name=Stevie                        \n",
      "correct=male     guess=female   name=Tabbie                        \n",
      "correct=male     guess=female   name=Tanny                         \n",
      "correct=male     guess=female   name=Toby                          \n",
      "correct=male     guess=female   name=Tracy                         \n",
      "correct=male     guess=female   name=Ulrich                        \n",
      "correct=male     guess=female   name=Vijay                         \n",
      "correct=male     guess=female   name=Voltaire                      \n",
      "correct=male     guess=female   name=Wallie                        \n",
      "correct=male     guess=female   name=Wayne                         \n",
      "correct=male     guess=female   name=Westley                       \n",
      "correct=male     guess=female   name=Whitby                        \n",
      "correct=male     guess=female   name=Willi                         \n",
      "correct=male     guess=female   name=Willy                         \n",
      "correct=male     guess=female   name=Wolfy                         \n",
      "correct=male     guess=female   name=Yankee                        \n"
     ]
    }
   ],
   "source": [
    "# define a function to print the errors\n",
    "def printerrors(errors):\n",
    "    for (tag, guess, name) in sorted(errors):\n",
    "        print('correct={:<8s} guess={:<8s} name={:<30s}'.format(tag, guess, name))\n",
    "\n",
    "printerrors(errors)"
   ]
  },
  {
   "cell_type": "markdown",
   "metadata": {},
   "source": [
    "## Part of Speech Classifier"
   ]
  },
  {
   "cell_type": "code",
   "execution_count": 15,
   "metadata": {},
   "outputs": [],
   "source": [
    "## classify part of speech based on sentence context\n",
    "from nltk.corpus import brown\n",
    "\n",
    "# define features for the \"i\"th word in the sentence, including three types of suffix \n",
    "#     and one pre-word\n",
    "# the pos features function takes the sentence of untagged words and the index of a word i\n",
    "#   it creates features for word i, including the previous word i-1\n",
    "def pos_features(sentence, i):    \n",
    "    features = {\"suffix(1)\": sentence[i][-1:],\n",
    "\t\t    \"suffix(2)\": sentence[i][-2:],\n",
    "\t\t    \"suffix(3)\": sentence[i][-3:]}\n",
    "    if i == 0:\n",
    "        features[\"prev-word\"] = \"<START>\"\n",
    "    else:\n",
    "        features[\"prev-word\"] = sentence[i-1]\n",
    "    return features "
   ]
  },
  {
   "cell_type": "code",
   "execution_count": 16,
   "metadata": {},
   "outputs": [
    {
     "name": "stdout",
     "output_type": "stream",
     "text": [
      "['The', 'Fulton', 'County', 'Grand', 'Jury', 'said', 'Friday', 'an', 'investigation', 'of', \"Atlanta's\", 'recent', 'primary', 'election', 'produced', '``', 'no', 'evidence', \"''\", 'that', 'any', 'irregularities', 'took', 'place', '.']\n",
      "investigation\n"
     ]
    }
   ],
   "source": [
    "# look at features of a specific word in a specific sentence\n",
    "# first sentence of brown corpus\n",
    "sentence0 = brown.sents()[0]\n",
    "print(sentence0)\n",
    "# word 8 of sentence 0\n",
    "print(sentence0[8])"
   ]
  },
  {
   "cell_type": "code",
   "execution_count": 17,
   "metadata": {},
   "outputs": [
    {
     "name": "stdout",
     "output_type": "stream",
     "text": [
      "{'suffix(1)': 'n', 'suffix(2)': 'on', 'suffix(3)': 'ion', 'prev-word': 'an'}\n"
     ]
    }
   ],
   "source": [
    "# pos features of the word 8 \n",
    "print(pos_features(sentence0, 8))"
   ]
  },
  {
   "cell_type": "code",
   "execution_count": 18,
   "metadata": {},
   "outputs": [
    {
     "data": {
      "text/plain": [
       "[('The', 'AT'),\n",
       " ('Fulton', 'NP-TL'),\n",
       " ('County', 'NN-TL'),\n",
       " ('Grand', 'JJ-TL'),\n",
       " ('Jury', 'NN-TL'),\n",
       " ('said', 'VBD'),\n",
       " ('Friday', 'NR'),\n",
       " ('an', 'AT'),\n",
       " ('investigation', 'NN'),\n",
       " ('of', 'IN'),\n",
       " (\"Atlanta's\", 'NP$'),\n",
       " ('recent', 'JJ'),\n",
       " ('primary', 'NN'),\n",
       " ('election', 'NN'),\n",
       " ('produced', 'VBD'),\n",
       " ('``', '``'),\n",
       " ('no', 'AT'),\n",
       " ('evidence', 'NN'),\n",
       " (\"''\", \"''\"),\n",
       " ('that', 'CS'),\n",
       " ('any', 'DTI'),\n",
       " ('irregularities', 'NNS'),\n",
       " ('took', 'VBD'),\n",
       " ('place', 'NN'),\n",
       " ('.', '.')]"
      ]
     },
     "execution_count": 18,
     "metadata": {},
     "output_type": "execute_result"
    }
   ],
   "source": [
    "# get the POS tagged sentences with categories of news\n",
    "tagged_sents = brown.tagged_sents(categories='news')\n",
    "tag_sent0 = tagged_sents[0]\n",
    "tag_sent0"
   ]
  },
  {
   "cell_type": "code",
   "execution_count": 19,
   "metadata": {},
   "outputs": [
    {
     "data": {
      "text/plain": [
       "['The',\n",
       " 'Fulton',\n",
       " 'County',\n",
       " 'Grand',\n",
       " 'Jury',\n",
       " 'said',\n",
       " 'Friday',\n",
       " 'an',\n",
       " 'investigation',\n",
       " 'of',\n",
       " \"Atlanta's\",\n",
       " 'recent',\n",
       " 'primary',\n",
       " 'election',\n",
       " 'produced',\n",
       " '``',\n",
       " 'no',\n",
       " 'evidence',\n",
       " \"''\",\n",
       " 'that',\n",
       " 'any',\n",
       " 'irregularities',\n",
       " 'took',\n",
       " 'place',\n",
       " '.']"
      ]
     },
     "execution_count": 19,
     "metadata": {},
     "output_type": "execute_result"
    }
   ],
   "source": [
    "# the function nltk.tag.untag will take the tags off\n",
    "nltk.tag.untag(tag_sent0)"
   ]
  },
  {
   "cell_type": "code",
   "execution_count": 20,
   "metadata": {},
   "outputs": [
    {
     "name": "stdout",
     "output_type": "stream",
     "text": [
      "0 The AT\n",
      "1 Fulton NP-TL\n",
      "2 County NN-TL\n",
      "3 Grand JJ-TL\n",
      "4 Jury NN-TL\n",
      "5 said VBD\n",
      "6 Friday NR\n",
      "7 an AT\n",
      "8 investigation NN\n",
      "9 of IN\n",
      "10 Atlanta's NP$\n",
      "11 recent JJ\n",
      "12 primary NN\n",
      "13 election NN\n",
      "14 produced VBD\n",
      "15 `` ``\n",
      "16 no AT\n",
      "17 evidence NN\n",
      "18 '' ''\n",
      "19 that CS\n",
      "20 any DTI\n",
      "21 irregularities NNS\n",
      "22 took VBD\n",
      "23 place NN\n",
      "24 . .\n"
     ]
    }
   ],
   "source": [
    "# the python enumerate function generates an index number for each item in a list\n",
    "for i,(word,tag) in enumerate(tag_sent0):\n",
    "    print (i, word, tag)"
   ]
  },
  {
   "cell_type": "code",
   "execution_count": 21,
   "metadata": {},
   "outputs": [],
   "source": [
    "# get feature sets of words appearing in the corpus, from untagged sentences.\n",
    "# and then get their tags from corresponding tagged sentence\n",
    "# use the Python function enumerate to pair the index numbers with sentence words \n",
    "#   for the pos features function\n",
    "featuresets = []\n",
    "for tagged_sent in tagged_sents:\n",
    "\tuntagged_sent = nltk.tag.untag(tagged_sent)\n",
    "\tfor i, (word, tag) in enumerate(tagged_sent):\n",
    "\t\tfeaturesets.append( (pos_features(untagged_sent, i), tag) )"
   ]
  },
  {
   "cell_type": "code",
   "execution_count": 22,
   "metadata": {},
   "outputs": [
    {
     "name": "stdout",
     "output_type": "stream",
     "text": [
      "({'suffix(1)': 'e', 'suffix(2)': 'he', 'suffix(3)': 'The', 'prev-word': '<START>'}, 'AT')\n",
      "({'suffix(1)': 'n', 'suffix(2)': 'on', 'suffix(3)': 'ton', 'prev-word': 'The'}, 'NP-TL')\n",
      "({'suffix(1)': 'y', 'suffix(2)': 'ty', 'suffix(3)': 'nty', 'prev-word': 'Fulton'}, 'NN-TL')\n",
      "({'suffix(1)': 'd', 'suffix(2)': 'nd', 'suffix(3)': 'and', 'prev-word': 'County'}, 'JJ-TL')\n",
      "({'suffix(1)': 'y', 'suffix(2)': 'ry', 'suffix(3)': 'ury', 'prev-word': 'Grand'}, 'NN-TL')\n",
      "({'suffix(1)': 'd', 'suffix(2)': 'id', 'suffix(3)': 'aid', 'prev-word': 'Jury'}, 'VBD')\n",
      "({'suffix(1)': 'y', 'suffix(2)': 'ay', 'suffix(3)': 'day', 'prev-word': 'said'}, 'NR')\n",
      "({'suffix(1)': 'n', 'suffix(2)': 'an', 'suffix(3)': 'an', 'prev-word': 'Friday'}, 'AT')\n",
      "({'suffix(1)': 'n', 'suffix(2)': 'on', 'suffix(3)': 'ion', 'prev-word': 'an'}, 'NN')\n",
      "({'suffix(1)': 'f', 'suffix(2)': 'of', 'suffix(3)': 'of', 'prev-word': 'investigation'}, 'IN')\n"
     ]
    }
   ],
   "source": [
    "# look at the feature sets of the first 10 words\n",
    "for f in featuresets[:10]:\n",
    "\tprint (f)"
   ]
  },
  {
   "cell_type": "code",
   "execution_count": 23,
   "metadata": {},
   "outputs": [
    {
     "name": "stdout",
     "output_type": "stream",
     "text": [
      "90499\n",
      "10055\n"
     ]
    }
   ],
   "source": [
    "# using naive Bayesian as classifier\n",
    "# split data into a training set and a test set, using a 90%/10% split\n",
    "size = int(len(featuresets) * 0.1)\n",
    "train_set, test_set = featuresets[size:], featuresets[:size]\n",
    "print(len(train_set))\n",
    "print(len(test_set))"
   ]
  },
  {
   "cell_type": "code",
   "execution_count": 24,
   "metadata": {},
   "outputs": [],
   "source": [
    "# train classifier on the training set\n",
    "classifier = nltk.NaiveBayesClassifier.train(train_set)"
   ]
  },
  {
   "cell_type": "code",
   "execution_count": 25,
   "metadata": {},
   "outputs": [
    {
     "name": "stdout",
     "output_type": "stream",
     "text": [
      "0.7891596220785678\n"
     ]
    }
   ],
   "source": [
    "# evaluate the accuracy (this will take a little while)\n",
    "print(nltk.classify.accuracy(classifier, test_set))\n",
    "# the result is reasonable for features without the previous tag"
   ]
  },
  {
   "cell_type": "markdown",
   "metadata": {},
   "source": [
    "## Document Classification with keywords"
   ]
  },
  {
   "cell_type": "code",
   "execution_count": 26,
   "metadata": {},
   "outputs": [],
   "source": [
    "### classify documents based on keywords\n",
    "from nltk.corpus import movie_reviews\n",
    "import random"
   ]
  },
  {
   "cell_type": "code",
   "execution_count": 27,
   "metadata": {},
   "outputs": [
    {
     "name": "stdout",
     "output_type": "stream",
     "text": [
      "['neg', 'pos']\n"
     ]
    }
   ],
   "source": [
    "# movie reviews are labeled either positive or negative (by human annotators)\n",
    "print(movie_reviews.categories())"
   ]
  },
  {
   "cell_type": "code",
   "execution_count": 28,
   "metadata": {},
   "outputs": [
    {
     "name": "stdout",
     "output_type": "stream",
     "text": [
      "2000\n"
     ]
    }
   ],
   "source": [
    "# for each document in movie_reviews, get its words and category (positive/negative)\n",
    "documents = [(list(movie_reviews.words(fileid)), category)\n",
    "              for category in movie_reviews.categories()\n",
    "              for fileid in movie_reviews.fileids(category)]\n",
    "print(len(documents))"
   ]
  },
  {
   "cell_type": "code",
   "execution_count": 29,
   "metadata": {},
   "outputs": [
    {
     "name": "stdout",
     "output_type": "stream",
     "text": [
      "(['of', 'all', 'the', 'films', 'i', \"'\", 've', 'come', 'to', 'see', 'this', 'year', '(', '1997', ')', ',', 'i', 'think', 'only', 'chasing', 'amy', 'had', 'as', 'many', '\"', 'laugh', '-', 'out', '-', 'loud', '\"', 'moments', '.', 'i', \"'\", 'm', 'not', 'saying', 'that', 'i', 'was', 'hysterically', 'rolling', 'on', 'the', 'floor', 'while', 'watching', 'waiting', 'for', 'guffman', ',', 'but', 'my', 'mouth', 'burst', 'open', 'with', 'at', 'least', 'a', 'delighted', 'guffaw', 'at', 'least', 'every', 'couple', 'of', 'minutes', '.', 'and', 'i', 'think', 'i', \"'\", 'm', 'the', 'kind', 'of', 'person', 'that', 'laughs', 'least', 'at', 'movies', ',', 'even', 'when', 'i', 'find', 'them', 'funny', '.', 'usually', 'all', 'you', 'can', 'get', 'out', 'of', 'me', 'is', 'a', 'warm', 'smile', ',', 'so', 'to', 'get', 'me', 'laughing', 'out', 'loud', ',', 'and', 'so', 'frequently', ',', 'is', 'a', 'really', 'good', 'sign', '.', 'waiting', 'for', 'guffman', 'is', 'the', 'story', 'of', 'blaine', ',', 'missouri', ',', 'a', 'town', 'celebrating', 'it', \"'\", 's', '150th', 'anniversary', ',', 'and', 'the', 'musical', 'that', 'is', 'being', 'put', 'on', 'for', 'the', 'big', 'event', '.', 'the', 'play', 'is', 'being', 'directed', 'by', 'corky', 'st', '.', 'clair', '(', 'christopher', 'guest', ',', 'who', 'also', 'wrote', 'and', 'directed', 'this', '\"', 'mockumentary', '\"', 'as', 'well', 'as', 'co', '-', 'writing', 'several', 'original', 'musical', 'numbers', ')', ',', 'the', 'effeminate', 'broadway', 'hopeful', 'determined', 'to', 'make', 'this', 'production', 'a', 'smashing', 'success', '.', 'teaming', 'up', 'with', 'st', '.', 'clair', 'are', 'a', 'handful', 'of', 'blaine', 'residents', ':', 'allan', 'pearl', '(', 'eugene', 'levy', ')', ',', 'a', 'jewish', 'dentist', 'who', 'spent', 'his', 'youth', 'not', 'as', 'the', 'class', 'clown', ',', 'but', 'sitting', 'right', 'next', 'to', 'him', 'and', 'studying', 'him', ',', 'ron', 'and', 'sheila', 'albertson', '(', 'fred', 'willard', 'and', 'catherine', 'o', \"'\", 'hara', 'respectively', ')', ',', 'a', 'married', 'couple', 'setting', 'their', 'sights', 'on', 'hollywood', ',', 'libby', 'mae', 'brown', '(', 'parker', 'posey', ')', ',', 'the', 'dense', 'but', 'fun', 'queen', 'of', 'the', 'dairy', 'queen', ',', 'and', 'a', 'few', 'others', '.', 'everybody', 'in', 'this', 'movie', 'is', 'brilliant', ',', 'absolutely', 'so', ',', 'but', 'levy', 'particularly', 'stands', 'out', '.', 'these', 'characters', 'are', 'portrayed', 'with', 'such', 'saddening', 'realism', 'that', 'you', 'can', \"'\", 't', 'help', 'but', 'love', 'them', ',', 'as', 'pathetic', 'as', 'they', 'really', 'are', '.', 'although', 'levy', 'stands', 'out', ',', 'guest', ',', 'willard', ',', 'o', \"'\", 'hara', ',', 'and', 'posey', 'are', 'all', 'wonderful', 'and', 'definitely', 'should', 'be', 'commended', 'for', 'their', 'performances', '!', 'if', 'there', 'was', 'an', 'oscar', 'for', 'an', 'ensemble', 'performance', ',', 'this', 'is', 'the', 'group', 'that', 'should', 'sweep', 'it', '.', 'some', 'humor', 'was', 'a', 'tad', 'uneven', 'from', 'the', 'rest', 'of', 'the', 'film', 'and', ',', 'even', 'after', 'starting', 'very', 'humorously', ',', 'they', 'nearly', 'lost', 'me', 'with', 'the', 'tad', '-', 'too', '-', 'long', 'intros', '.', 'as', 'delightful', 'as', 'it', 'was', ',', 'it', 'began', 'to', 'get', 'monotonous', '.', 'thankfully', ',', 'just', 'as', 'your', 'about', 'to', 'say', '\"', 'ok', ',', 'maybe', 'i', 'should', 'run', 'to', 'the', 'bathroom', '\"', ',', 'they', 'finally', 'get', 'past', 'the', 'intros', 'and', 'onto', 'the', 'rehearsal', 'scenes', '.', 'like', 'a', 'play', ',', 'this', 'film', 'gives', 'a', 'very', 'three', '-', 'act', 'feel', ',', 'the', 'intros', '(', 'funny', ',', 'but', 'almost', 'too', 'long', ')', ',', 'the', 'rehearsals', '(', 'even', 'funnier', ')', ',', 'and', 'finally', ',', 'the', 'actual', 'performance', 'of', 'the', 'play', '(', 'excellent', '!', ')', '.', 'like', 'i', 'said', ',', 'each', 'character', 'really', 'shines', ',', 'even', 'when', 'done', 'with', 'a', 'subtle', 'approach', '.', 'you', 'can', \"'\", 't', 'really', 'watch', 'these', 'people', 'and', 'not', 'think', 'they', \"'\", 're', 'real', 'people', '!', 'even', 'they', 'way', 'they', 'talk', ',', 'with', 'awkward', 'pauses', 'and', 'stumbles', 'that', 'don', \"'\", 't', 'feel', 'staged', 'at', 'all', ',', 'you', 'feel', 'like', 'you', \"'\", 're', 'watching', 'a', 'real', ',', 'albeit', 'funny', ',', 'documentary', '.', 'and', 'even', 'with', 'silly', 'lyrics', ',', 'the', 'original', 'songs', 'when', 'the', 'play', 'is', 'finally', 'put', 'on', ',', 'are', 'absolutely', 'wonderful', '!', 'as', 'a', 'word', 'of', 'note', ',', 'despite', 'it', \"'\", 's', '\"', 'r', '\"', 'rating', ',', 'waiting', 'for', 'guffman', 'is', 'really', 'quite', 'clean', '.', 'this', 'rating', 'came', 'from', 'a', 'brief', ',', 'very', 'brief', 'use', 'of', 'the', 'grand', '-', 'daddy', 'of', 'all', 'swear', 'words', '.', 'even', 'if', 'that', 'really', 'bothers', 'you', ',', 'let', 'me', 'say', 'that', 'it', \"'\", 's', 'not', 'presented', 'in', 'a', 'vulgar', ',', 'cheap', '-', 'laugh', 'way', '.', 'it', \"'\", 's', 'actually', 'quite', 'humorous', 'and', 'tastefully', 'done', '!', 'it', 'might', 'be', 'hard', 'knowing', 'what', 'to', 'expect', 'with', 'waiting', 'for', 'guffman', '.', 'it', \"'\", 's', 'silly', 'humor', ',', 'but', 'it', \"'\", 's', 'also', 'so', 'dry', ',', 'subtle', ',', 'and', 'intelligently', 'done', 'that', 'you', \"'\", 're', 'not', 'insulted', 'by', 'it', '.', 'it', \"'\", 's', 'always', 'really', 'nice', 'to', 'see', 'a', 'comedy', 'that', 'isn', \"'\", 't', 'all', 'slapstick', 'and', 'vulgarity', ',', 'and', 'this', 'film', 'is', 'one', 'of', 'the', 'better', 'ones', 'of', 'the', 'better', 'ones', '!', 'i', \"'\", 'd', 'recommend', 'seeing', 'it', '!'], 'pos')\n"
     ]
    }
   ],
   "source": [
    "random.shuffle(documents)\n",
    "# look at the first document - consists of a list of all the words in the review\n",
    "# followed by the category\n",
    "print(documents[0])"
   ]
  },
  {
   "cell_type": "code",
   "execution_count": 30,
   "metadata": {},
   "outputs": [
    {
     "name": "stdout",
     "output_type": "stream",
     "text": [
      "39768\n"
     ]
    }
   ],
   "source": [
    "## use words from all documents to define the word vector for features\n",
    "# get all words from all movie_reviews and put into a frequency distribution\n",
    "all_words = nltk.FreqDist(w.lower() for w in movie_reviews.words())\n",
    "print(len(all_words))"
   ]
  },
  {
   "cell_type": "code",
   "execution_count": 33,
   "metadata": {},
   "outputs": [],
   "source": [
    "# get the 2000 most frequently appearing keywords in the corpus\n",
    "word_items = all_words.most_common(2000)\n",
    "word_features = [word for (word, freq) in word_items]   # just the words"
   ]
  },
  {
   "cell_type": "code",
   "execution_count": 34,
   "metadata": {},
   "outputs": [
    {
     "name": "stdout",
     "output_type": "stream",
     "text": [
      "[',', 'the', '.', 'a', 'and', 'of', 'to', \"'\", 'is', 'in', 's', '\"', 'it', 'that', '-', ')', '(', 'as', 'with', 'for', 'his', 'this', 'film', 'i', 'he', 'but', 'on', 'are', 't', 'by', 'be', 'one', 'movie', 'an', 'who', 'not', 'you', 'from', 'at', 'was', 'have', 'they', 'has', 'her', 'all', '?', 'there', 'like', 'so', 'out', 'about', 'up', 'more', 'what', 'when', 'which', 'or', 'she', 'their', ':', 'some', 'just', 'can', 'if', 'we', 'him', 'into', 'even', 'only', 'than', 'no', 'good', 'time', 'most', 'its', 'will', 'story', 'would', 'been', 'much', 'character', 'also', 'get', 'other', 'do', 'two', 'well', 'them', 'very', 'characters', ';', 'first', '--', 'after', 'see', '!', 'way', 'because', 'make', 'life']\n"
     ]
    }
   ],
   "source": [
    "# look at the first 100 words\n",
    "print(word_features[:100])"
   ]
  },
  {
   "cell_type": "code",
   "execution_count": 35,
   "metadata": {},
   "outputs": [],
   "source": [
    "# define features (keywords) of a document\n",
    "# each feature is 'contains(keyword)' and is true or false depending\n",
    "# on whether that keyword is in the document\n",
    "def document_features(document, word_features):\n",
    "\tdocument_words = set(document)\n",
    "\tfeatures = {}\n",
    "\tfor word in word_features:\n",
    "\t\tfeatures['V_%s' % word] = (word in document_words)\n",
    "\treturn features"
   ]
  },
  {
   "cell_type": "code",
   "execution_count": 36,
   "metadata": {},
   "outputs": [],
   "source": [
    "# get features sets for a document, including keyword features and category feature\n",
    "featuresets = [(document_features(d, word_features), c) for (d,c) in documents]"
   ]
  },
  {
   "cell_type": "code",
   "execution_count": null,
   "metadata": {},
   "outputs": [],
   "source": [
    "# the feature sets are 2000 words long - so this is optional\n",
    "print(featuresets[0])"
   ]
  },
  {
   "cell_type": "code",
   "execution_count": 38,
   "metadata": {},
   "outputs": [],
   "source": [
    "# training using naive Baysian classifier with a 95/5 split\n",
    "train_set, test_set = featuresets[100:], featuresets[:100]\n",
    "classifier = nltk.NaiveBayesClassifier.train(train_set)"
   ]
  },
  {
   "cell_type": "code",
   "execution_count": 39,
   "metadata": {},
   "outputs": [
    {
     "name": "stdout",
     "output_type": "stream",
     "text": [
      "0.78\n"
     ]
    }
   ],
   "source": [
    "# evaluate the accuracy of the classifier\n",
    "print (nltk.classify.accuracy(classifier, test_set))\n",
    "# the accuracy result may vary since we randomized the documents"
   ]
  },
  {
   "cell_type": "code",
   "execution_count": 40,
   "metadata": {},
   "outputs": [
    {
     "name": "stdout",
     "output_type": "stream",
     "text": [
      "Most Informative Features\n",
      "                V_seagal = True              neg : pos    =     13.7 : 1.0\n",
      "           V_outstanding = True              pos : neg    =     11.4 : 1.0\n",
      "                 V_mulan = True              pos : neg    =      9.0 : 1.0\n",
      "           V_wonderfully = True              pos : neg    =      6.8 : 1.0\n",
      "                 V_damon = True              pos : neg    =      6.1 : 1.0\n",
      "                  V_lame = True              neg : pos    =      6.0 : 1.0\n",
      "                 V_flynt = True              pos : neg    =      5.7 : 1.0\n",
      "                 V_awful = True              neg : pos    =      5.6 : 1.0\n",
      "                   V_era = True              pos : neg    =      5.3 : 1.0\n",
      "                 V_waste = True              neg : pos    =      5.3 : 1.0\n",
      "                V_wasted = True              neg : pos    =      5.1 : 1.0\n",
      "                V_poorly = True              neg : pos    =      5.0 : 1.0\n",
      "            V_ridiculous = True              neg : pos    =      5.0 : 1.0\n",
      "               V_unfunny = True              neg : pos    =      4.6 : 1.0\n",
      "                 V_worst = True              neg : pos    =      4.6 : 1.0\n",
      "             V_portrayal = True              pos : neg    =      4.2 : 1.0\n",
      "                  V_jedi = True              pos : neg    =      4.1 : 1.0\n",
      "                  V_dull = True              neg : pos    =      4.1 : 1.0\n",
      "                V_allows = True              pos : neg    =      4.0 : 1.0\n",
      "             V_pointless = True              neg : pos    =      3.9 : 1.0\n",
      "                  V_mess = True              neg : pos    =      3.8 : 1.0\n",
      "                 V_bland = True              neg : pos    =      3.8 : 1.0\n",
      "              V_terrific = True              pos : neg    =      3.8 : 1.0\n",
      "             V_portrayed = True              pos : neg    =      3.8 : 1.0\n",
      "                V_stupid = True              neg : pos    =      3.7 : 1.0\n",
      "             V_laughable = True              neg : pos    =      3.7 : 1.0\n",
      "             V_fantastic = True              pos : neg    =      3.6 : 1.0\n",
      "             V_memorable = True              pos : neg    =      3.6 : 1.0\n",
      "                V_boring = True              neg : pos    =      3.5 : 1.0\n",
      "                 V_snake = True              neg : pos    =      3.4 : 1.0\n",
      "None\n"
     ]
    }
   ],
   "source": [
    "# show which features of classifier are most informative\n",
    "print(classifier.show_most_informative_features(30))"
   ]
  },
  {
   "cell_type": "markdown",
   "metadata": {},
   "source": [
    "## Exercise 7.6.6"
   ]
  },
  {
   "cell_type": "code",
   "execution_count": 41,
   "metadata": {},
   "outputs": [],
   "source": [
    "# get the top 5000  most frequently appearing keywords in the corpus\n",
    "word_items = all_words.most_common(5000)\n",
    "word_features = [word for (word, freq) in word_items]   # just the words"
   ]
  },
  {
   "cell_type": "code",
   "execution_count": 42,
   "metadata": {},
   "outputs": [],
   "source": [
    "# define features (keywords) of a document\n",
    "# each feature is 'contains(keyword)' and is true or false depending\n",
    "# on whether that keyword is in the document\n",
    "def document_features(document, word_features):\n",
    "\tdocument_words = set(document)\n",
    "\tfeatures = {}\n",
    "\tfor word in word_features:\n",
    "\t\tfeatures['V_%s' % word] = (word in document_words)\n",
    "\treturn features"
   ]
  },
  {
   "cell_type": "code",
   "execution_count": 43,
   "metadata": {},
   "outputs": [],
   "source": [
    "# get features sets for a document, including keyword features and category feature\n",
    "featuresets = [(document_features(d, word_features), c) for (d,c) in documents]"
   ]
  },
  {
   "cell_type": "code",
   "execution_count": 44,
   "metadata": {},
   "outputs": [],
   "source": [
    "# training using naive Baysian classifier with a 95/5 split\n",
    "train_set, test_set = featuresets[100:], featuresets[:100]\n",
    "classifier = nltk.NaiveBayesClassifier.train(train_set)"
   ]
  },
  {
   "cell_type": "code",
   "execution_count": 45,
   "metadata": {},
   "outputs": [
    {
     "name": "stdout",
     "output_type": "stream",
     "text": [
      "0.82\n"
     ]
    }
   ],
   "source": [
    "# evaluate the accuracy of the classifier\n",
    "print (nltk.classify.accuracy(classifier, test_set))\n",
    "# the accuracy result may vary since we randomized the documents"
   ]
  }
 ],
 "metadata": {
  "interpreter": {
   "hash": "837a5e7ae28b4e198c1d8cf4796a058d56e0b65e3e1483208ccae61f9a209f4c"
  },
  "kernelspec": {
   "display_name": "Python 3",
   "language": "python",
   "name": "python3"
  },
  "language_info": {
   "codemirror_mode": {
    "name": "ipython",
    "version": 3
   },
   "file_extension": ".py",
   "mimetype": "text/x-python",
   "name": "python",
   "nbconvert_exporter": "python",
   "pygments_lexer": "ipython3",
   "version": "3.8.8"
  }
 },
 "nbformat": 4,
 "nbformat_minor": 2
}
