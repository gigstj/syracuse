{
 "cells": [
  {
   "cell_type": "markdown",
   "metadata": {},
   "source": [
    "<p>&nbsp;</p>\n",
    "\n",
    "### **Introduction**\n",
    "\n",
    "<p>&nbsp;</p>\n",
    "\n",
    "<font size = \"3\">\n",
    "\n",
    "In this report, I will perform text mining on a sample of restaurant reviews. The goal is to build a model that can predict whether a review is fake / real and whether the sentiment of a review is positive / negative. I will be training a multinomial naive bayes model and using grid search for hyper parameter tuning. I then will be reporting out the most important words that model learned in the process."
   ]
  },
  {
   "cell_type": "markdown",
   "metadata": {},
   "source": [
    "<p>&nbsp;</p>\n",
    "\n",
    "#### **Import Libraries**\n",
    "\n",
    "<p>&nbsp;</p>\n",
    "\n",
    "<font size = \"3\">\n",
    "\n",
    "I will start off by loading some standard packages. Additional packages may be loaded later on as needed."
   ]
  },
  {
   "cell_type": "code",
   "execution_count": 1,
   "metadata": {},
   "outputs": [],
   "source": [
    "# Import libraries\n",
    "import numpy as np\n",
    "import pandas as pd\n",
    "import nltk\n",
    "import re"
   ]
  },
  {
   "cell_type": "markdown",
   "metadata": {},
   "source": [
    "<p>&nbsp;</p>\n",
    "\n",
    "#### **Import Data**\n",
    "\n",
    "<p>&nbsp;</p>\n",
    "\n",
    "<font size = \"3\">\n",
    "\n",
    "In the following code, I will use the arff2pandas package to read in the .arff file and store in a pandas dataframe. Make sure that the .arff file is located in the current working directory otherwise modify the file pathway in the open() function accordingly before running the code."
   ]
  },
  {
   "cell_type": "code",
   "execution_count": 55,
   "metadata": {},
   "outputs": [],
   "source": [
    "# Import data\n",
    "\n",
    "# Use the arff2pandas library to read the .arff file\n",
    "from arff2pandas import a2p\n",
    "\n",
    "# Read the .arff file and store it in a variable called reviews\n",
    "with open(\"deception_data_converted_arff.arff\") as data_file:\n",
    "    reviews_df = a2p.load(data_file)"
   ]
  },
  {
   "cell_type": "markdown",
   "metadata": {},
   "source": [
    "<p>&nbsp;</p>\n",
    "\n",
    "#### **Initial Data Check**\n",
    "\n",
    "<p>&nbsp;</p>\n",
    "\n",
    "<font size = \"3\">\n",
    "\n",
    "Before moving on, at this point it is a good idea to take a quick look at the data, make sure that it was loaded properly, evaluate the structure, check for missing values, etc."
   ]
  },
  {
   "cell_type": "code",
   "execution_count": 56,
   "metadata": {},
   "outputs": [
    {
     "name": "stdout",
     "output_type": "stream",
     "text": [
      "Number of Rows =  92\n",
      "Number of Cols =  3\n"
     ]
    }
   ],
   "source": [
    "# Show the structure of the data\n",
    "print(\"Number of Rows = \", len(reviews_df))           # Number of rows\n",
    "print(\"Number of Cols = \", len(reviews_df.columns))   # Number of columns"
   ]
  },
  {
   "cell_type": "code",
   "execution_count": 57,
   "metadata": {},
   "outputs": [
    {
     "data": {
      "text/html": [
       "<div>\n",
       "<style scoped>\n",
       "    .dataframe tbody tr th:only-of-type {\n",
       "        vertical-align: middle;\n",
       "    }\n",
       "\n",
       "    .dataframe tbody tr th {\n",
       "        vertical-align: top;\n",
       "    }\n",
       "\n",
       "    .dataframe thead th {\n",
       "        text-align: right;\n",
       "    }\n",
       "</style>\n",
       "<table border=\"1\" class=\"dataframe\">\n",
       "  <thead>\n",
       "    <tr style=\"text-align: right;\">\n",
       "      <th></th>\n",
       "      <th>lie@{fake,true}</th>\n",
       "      <th>sentiment@{negative,positive}</th>\n",
       "      <th>review@STRING</th>\n",
       "    </tr>\n",
       "  </thead>\n",
       "  <tbody>\n",
       "    <tr>\n",
       "      <th>0</th>\n",
       "      <td>fake</td>\n",
       "      <td>negative</td>\n",
       "      <td>Mike's Pizza High Point, NY Service was very s...</td>\n",
       "    </tr>\n",
       "    <tr>\n",
       "      <th>1</th>\n",
       "      <td>fake</td>\n",
       "      <td>negative</td>\n",
       "      <td>i really like this buffet restaurant in Marsha...</td>\n",
       "    </tr>\n",
       "    <tr>\n",
       "      <th>2</th>\n",
       "      <td>fake</td>\n",
       "      <td>negative</td>\n",
       "      <td>After I went shopping with some of my friend, ...</td>\n",
       "    </tr>\n",
       "    <tr>\n",
       "      <th>3</th>\n",
       "      <td>fake</td>\n",
       "      <td>negative</td>\n",
       "      <td>Olive Oil Garden was very disappointing. I exp...</td>\n",
       "    </tr>\n",
       "    <tr>\n",
       "      <th>4</th>\n",
       "      <td>fake</td>\n",
       "      <td>negative</td>\n",
       "      <td>The Seven Heaven restaurant was never known fo...</td>\n",
       "    </tr>\n",
       "  </tbody>\n",
       "</table>\n",
       "</div>"
      ],
      "text/plain": [
       "  lie@{fake,true} sentiment@{negative,positive}  \\\n",
       "0            fake                      negative   \n",
       "1            fake                      negative   \n",
       "2            fake                      negative   \n",
       "3            fake                      negative   \n",
       "4            fake                      negative   \n",
       "\n",
       "                                       review@STRING  \n",
       "0  Mike's Pizza High Point, NY Service was very s...  \n",
       "1  i really like this buffet restaurant in Marsha...  \n",
       "2  After I went shopping with some of my friend, ...  \n",
       "3  Olive Oil Garden was very disappointing. I exp...  \n",
       "4  The Seven Heaven restaurant was never known fo...  "
      ]
     },
     "execution_count": 57,
     "metadata": {},
     "output_type": "execute_result"
    }
   ],
   "source": [
    "# Show the top 5 rows of the data\n",
    "reviews_df.head()"
   ]
  },
  {
   "cell_type": "code",
   "execution_count": 58,
   "metadata": {},
   "outputs": [
    {
     "data": {
      "text/html": [
       "<div>\n",
       "<style scoped>\n",
       "    .dataframe tbody tr th:only-of-type {\n",
       "        vertical-align: middle;\n",
       "    }\n",
       "\n",
       "    .dataframe tbody tr th {\n",
       "        vertical-align: top;\n",
       "    }\n",
       "\n",
       "    .dataframe thead th {\n",
       "        text-align: right;\n",
       "    }\n",
       "</style>\n",
       "<table border=\"1\" class=\"dataframe\">\n",
       "  <thead>\n",
       "    <tr style=\"text-align: right;\">\n",
       "      <th></th>\n",
       "      <th>lie@{fake,true}</th>\n",
       "      <th>sentiment@{negative,positive}</th>\n",
       "      <th>review@STRING</th>\n",
       "    </tr>\n",
       "  </thead>\n",
       "  <tbody>\n",
       "    <tr>\n",
       "      <th>87</th>\n",
       "      <td>true</td>\n",
       "      <td>positive</td>\n",
       "      <td>Pastablities is a locally owned restaurant in ...</td>\n",
       "    </tr>\n",
       "    <tr>\n",
       "      <th>88</th>\n",
       "      <td>true</td>\n",
       "      <td>positive</td>\n",
       "      <td>I like the Pizza at Dominoes for their special...</td>\n",
       "    </tr>\n",
       "    <tr>\n",
       "      <th>89</th>\n",
       "      <td>true</td>\n",
       "      <td>positive</td>\n",
       "      <td>It was a really amazing Japanese restaurant. T...</td>\n",
       "    </tr>\n",
       "    <tr>\n",
       "      <th>90</th>\n",
       "      <td>true</td>\n",
       "      <td>positive</td>\n",
       "      <td>How do I even pick a best experience at Joe's ...</td>\n",
       "    </tr>\n",
       "    <tr>\n",
       "      <th>91</th>\n",
       "      <td>true</td>\n",
       "      <td>positive</td>\n",
       "      <td>My sister and I ate at this restaurant called ...</td>\n",
       "    </tr>\n",
       "  </tbody>\n",
       "</table>\n",
       "</div>"
      ],
      "text/plain": [
       "   lie@{fake,true} sentiment@{negative,positive}  \\\n",
       "87            true                      positive   \n",
       "88            true                      positive   \n",
       "89            true                      positive   \n",
       "90            true                      positive   \n",
       "91            true                      positive   \n",
       "\n",
       "                                        review@STRING  \n",
       "87  Pastablities is a locally owned restaurant in ...  \n",
       "88  I like the Pizza at Dominoes for their special...  \n",
       "89  It was a really amazing Japanese restaurant. T...  \n",
       "90  How do I even pick a best experience at Joe's ...  \n",
       "91  My sister and I ate at this restaurant called ...  "
      ]
     },
     "execution_count": 58,
     "metadata": {},
     "output_type": "execute_result"
    }
   ],
   "source": [
    "# Show the bottom 5 rows of the data\n",
    "reviews_df.tail()"
   ]
  },
  {
   "cell_type": "code",
   "execution_count": 59,
   "metadata": {},
   "outputs": [],
   "source": [
    "# Change the column headers to something friendlier\n",
    "reviews_df.columns = [\"is_fake\", \"sentiment\", \"reviews\"]"
   ]
  },
  {
   "cell_type": "code",
   "execution_count": 62,
   "metadata": {},
   "outputs": [
    {
     "name": "stdout",
     "output_type": "stream",
     "text": [
      "true    46\n",
      "fake    46\n",
      "Name: is_fake, dtype: int64 \n",
      "\n",
      "positive    46\n",
      "negative    46\n",
      "Name: sentiment, dtype: int64\n"
     ]
    }
   ],
   "source": [
    "# What are the value counts for the two output columns\n",
    "print(reviews_df.is_fake.value_counts(), \"\\n\")\n",
    "print(reviews_df.sentiment.value_counts())"
   ]
  },
  {
   "cell_type": "code",
   "execution_count": 67,
   "metadata": {},
   "outputs": [
    {
     "data": {
      "text/plain": [
       "is_fake      object\n",
       "sentiment    object\n",
       "reviews      object\n",
       "dtype: object"
      ]
     },
     "execution_count": 67,
     "metadata": {},
     "output_type": "execute_result"
    }
   ],
   "source": [
    "# Look at the data types, why are strings int64s?\n",
    "reviews_df.dtypes"
   ]
  },
  {
   "cell_type": "code",
   "execution_count": 72,
   "metadata": {},
   "outputs": [],
   "source": [
    "# Change the data types to something not ambiguous\n",
    "reviews_df[\"is_fake\"] = reviews_df[\"is_fake\"].astype(\"string\")\n",
    "reviews_df[\"sentiment\"] = reviews_df[\"sentiment\"].astype(\"string\")\n",
    "reviews_df[\"reviews\"] = reviews_df[\"reviews\"].astype(\"string\")"
   ]
  },
  {
   "cell_type": "code",
   "execution_count": 73,
   "metadata": {},
   "outputs": [
    {
     "data": {
      "text/plain": [
       "is_fake      string\n",
       "sentiment    string\n",
       "reviews      string\n",
       "dtype: object"
      ]
     },
     "execution_count": 73,
     "metadata": {},
     "output_type": "execute_result"
    }
   ],
   "source": [
    "# Check to make sure the data type conversion was successful\n",
    "reviews_df.dtypes"
   ]
  },
  {
   "cell_type": "code",
   "execution_count": 74,
   "metadata": {},
   "outputs": [
    {
     "name": "stdout",
     "output_type": "stream",
     "text": [
      "Mike's Pizza High Point, NY Service was very slow and the quality was low. You would think they would know at least how to make good pizza, not. Stick to pre-made dishes like stuffed pasta or a salad. You should consider dining else where. \n",
      "\n",
      "i really like this buffet restaurant in Marshall street. they have a lot of selection of american, japanese, and chinese dishes. we also got a free drink and free refill. there are also different kinds of dessert. the staff is very friendly. it is also quite cheap compared with the other restaurant in syracuse area. i will definitely coming back here. \n",
      "\n",
      "After I went shopping with some of my friend, we went to DODO restaurant for dinner. I found worm in one of the dishes . \n",
      "\n",
      "Olive Oil Garden was very disappointing. I expect good food and good service (at least!!) when I go out to eat. The meal was cold when we got it, and the waitor had no manners whatsoever. Don't go to the Olive Oil Garden.  \n",
      "\n",
      "The Seven Heaven restaurant was never known for a superior service but what we experienced last week was a disaster. The waiter would not notice us until we asked him 4 times to bring us the menu. The food was not exceptional either. It took them though 2 minutes to bring us a check after they spotted we finished eating and are not ordering more. Well, never more.  \n",
      "\n"
     ]
    }
   ],
   "source": [
    "# Show the full text of the first 5 reviews\n",
    "for review in reviews_df[\"reviews\"][0:5]: print(review, \"\\n\")"
   ]
  },
  {
   "cell_type": "code",
   "execution_count": 75,
   "metadata": {},
   "outputs": [
    {
     "name": "stdout",
     "output_type": "stream",
     "text": [
      "<class 'pandas.core.frame.DataFrame'>\n",
      "RangeIndex: 92 entries, 0 to 91\n",
      "Data columns (total 3 columns):\n",
      " #   Column     Non-Null Count  Dtype \n",
      "---  ------     --------------  ----- \n",
      " 0   is_fake    92 non-null     string\n",
      " 1   sentiment  92 non-null     string\n",
      " 2   reviews    92 non-null     string\n",
      "dtypes: string(3)\n",
      "memory usage: 2.3 KB\n"
     ]
    }
   ],
   "source": [
    "# Check for missing values\n",
    "reviews_df.info()"
   ]
  },
  {
   "cell_type": "code",
   "execution_count": 76,
   "metadata": {},
   "outputs": [
    {
     "data": {
      "text/html": [
       "<div>\n",
       "<style scoped>\n",
       "    .dataframe tbody tr th:only-of-type {\n",
       "        vertical-align: middle;\n",
       "    }\n",
       "\n",
       "    .dataframe tbody tr th {\n",
       "        vertical-align: top;\n",
       "    }\n",
       "\n",
       "    .dataframe thead th {\n",
       "        text-align: right;\n",
       "    }\n",
       "</style>\n",
       "<table border=\"1\" class=\"dataframe\">\n",
       "  <thead>\n",
       "    <tr style=\"text-align: right;\">\n",
       "      <th></th>\n",
       "      <th>is_fake</th>\n",
       "      <th>sentiment</th>\n",
       "      <th>reviews</th>\n",
       "    </tr>\n",
       "  </thead>\n",
       "  <tbody>\n",
       "    <tr>\n",
       "      <th>count</th>\n",
       "      <td>92</td>\n",
       "      <td>92</td>\n",
       "      <td>92</td>\n",
       "    </tr>\n",
       "    <tr>\n",
       "      <th>unique</th>\n",
       "      <td>2</td>\n",
       "      <td>2</td>\n",
       "      <td>91</td>\n",
       "    </tr>\n",
       "    <tr>\n",
       "      <th>top</th>\n",
       "      <td>true</td>\n",
       "      <td>positive</td>\n",
       "      <td></td>\n",
       "    </tr>\n",
       "    <tr>\n",
       "      <th>freq</th>\n",
       "      <td>46</td>\n",
       "      <td>46</td>\n",
       "      <td>2</td>\n",
       "    </tr>\n",
       "  </tbody>\n",
       "</table>\n",
       "</div>"
      ],
      "text/plain": [
       "       is_fake sentiment reviews\n",
       "count       92        92      92\n",
       "unique       2         2      91\n",
       "top       true  positive        \n",
       "freq        46        46       2"
      ]
     },
     "execution_count": 76,
     "metadata": {},
     "output_type": "execute_result"
    }
   ],
   "source": [
    "# Describe the data\n",
    "reviews_df.describe()"
   ]
  },
  {
   "cell_type": "markdown",
   "metadata": {},
   "source": [
    "<p>&nbsp;</p>\n",
    "\n",
    "<font size = \"3\">\n",
    "\n",
    "The dataset is fairly small - only 92 samples in total. Both the of the classification labels are evenly distributed with 46 samples for each label. At first, it does not appear that there are any missing values. But after a closer look, the number of unique values in the review columns is only 91 / 92 which tells me that there is a duplicate value. There should not be any duplicate vlaues because the reviews should all be unique. In the following code, I discover that the duplicate value is actually a blank character string, so I will remove those 2 records from the data."
   ]
  },
  {
   "cell_type": "code",
   "execution_count": 77,
   "metadata": {},
   "outputs": [
    {
     "name": "stdout",
     "output_type": "stream",
     "text": [
      " 0\n"
     ]
    }
   ],
   "source": [
    "# Define a function to check if a count is > 1\n",
    "def check_count(count):\n",
    "    if count > 1: return True\n",
    "\n",
    "# Store a dictionary of each review and its count\n",
    "counts = dict(reviews_df[\"reviews\"].value_counts())\n",
    "\n",
    "# Extract the review that has a count > 1\n",
    "for key, value in counts.items():\n",
    "    if value > 1: print(key, len(key))"
   ]
  },
  {
   "cell_type": "code",
   "execution_count": 78,
   "metadata": {},
   "outputs": [
    {
     "name": "stdout",
     "output_type": "stream",
     "text": [
      "Shape of df after removing blank reviews =  (90, 3)\n"
     ]
    }
   ],
   "source": [
    "# Remove the reviews that do not have any text\n",
    "reviews_df = reviews_df[(reviews_df[\"reviews\"] != \"\")]\n",
    "\n",
    "# Print the shape of the new dataframe after removing the blanks\n",
    "print(\"Shape of df after removing blank reviews = \", reviews_df.shape)"
   ]
  },
  {
   "cell_type": "markdown",
   "metadata": {},
   "source": [
    "<p>&nbsp;</p>\n",
    "\n",
    "#### **Data Exploration**\n",
    "\n",
    "<p>&nbsp;</p>\n",
    "\n",
    "<font size = \"3\">\n",
    "\n",
    "In this section, I will explore some questions related to the reviews such as:\n",
    "- What is the distribution of the length of the reviews?\n",
    "- What about broken out by fake / true review, positive / negative review, etc.?\n",
    "- Generate word clouds for reviews"
   ]
  },
  {
   "cell_type": "code",
   "execution_count": 12,
   "metadata": {},
   "outputs": [
    {
     "data": {
      "image/png": "[encoded data removed]",
      "text/plain": [
       "<Figure size 432x288 with 1 Axes>"
      ]
     },
     "metadata": {
      "needs_background": "light"
     },
     "output_type": "display_data"
    }
   ],
   "source": [
    "# Show a histogram of the length of all reviews\n",
    "from matplotlib import pyplot as plt\n",
    "review_lengths = [len(text) for text in reviews_df[\"reviews\"]]\n",
    "plt.hist(review_lengths, bins = 25)\n",
    "plt.xlim(xmin = 0, xmax = 3000)\n",
    "plt.show()"
   ]
  },
  {
   "cell_type": "code",
   "execution_count": 13,
   "metadata": {},
   "outputs": [
    {
     "data": {
      "image/png": "[encoded data removed]",
      "text/plain": [
       "<Figure size 432x288 with 1 Axes>"
      ]
     },
     "metadata": {
      "needs_background": "light"
     },
     "output_type": "display_data"
    }
   ],
   "source": [
    "# Show a histogram of the length of fake reviews\n",
    "from matplotlib import pyplot as plt\n",
    "lengths = [len(text) for text in reviews_df[reviews_df[\"is_fake\"] == \"fake\"][\"reviews\"]]\n",
    "plt.hist(lengths, bins = 25)\n",
    "plt.xlim(xmin = 0, xmax = 3000)\n",
    "plt.show()"
   ]
  },
  {
   "cell_type": "code",
   "execution_count": 14,
   "metadata": {},
   "outputs": [
    {
     "data": {
      "image/png": "[encoded data removed]",
      "text/plain": [
       "<Figure size 432x288 with 1 Axes>"
      ]
     },
     "metadata": {
      "needs_background": "light"
     },
     "output_type": "display_data"
    }
   ],
   "source": [
    "# Show a histogram of the length of true reviews\n",
    "from matplotlib import pyplot as plt\n",
    "lengths = [len(text) for text in reviews_df[reviews_df[\"is_fake\"] == \"true\"][\"reviews\"]]\n",
    "plt.hist(lengths, bins = 25)\n",
    "plt.xlim(xmin = 0, xmax = 3000)\n",
    "plt.show()"
   ]
  },
  {
   "cell_type": "code",
   "execution_count": 15,
   "metadata": {},
   "outputs": [
    {
     "data": {
      "image/png": "[encoded data removed]",
      "text/plain": [
       "<Figure size 432x288 with 1 Axes>"
      ]
     },
     "metadata": {
      "needs_background": "light"
     },
     "output_type": "display_data"
    }
   ],
   "source": [
    "# Show a histogram of the length of negative reviews\n",
    "from matplotlib import pyplot as plt\n",
    "lengths = [len(text) for text in reviews_df[reviews_df[\"sentiment\"] == \"negative\"][\"reviews\"]]\n",
    "plt.hist(lengths, bins = 25)\n",
    "plt.xlim(xmin = 0, xmax = 3000)\n",
    "plt.show()"
   ]
  },
  {
   "cell_type": "code",
   "execution_count": 16,
   "metadata": {},
   "outputs": [
    {
     "data": {
      "image/png": "[encoded data removed]",
      "text/plain": [
       "<Figure size 432x288 with 1 Axes>"
      ]
     },
     "metadata": {
      "needs_background": "light"
     },
     "output_type": "display_data"
    }
   ],
   "source": [
    "# Show a histogram of the length of negative reviews\n",
    "from matplotlib import pyplot as plt\n",
    "lengths = [len(text) for text in reviews_df[reviews_df[\"sentiment\"] == \"positive\"][\"reviews\"]]\n",
    "plt.hist(lengths, bins = 25)\n",
    "plt.xlim(xmin = 0, xmax = 3000)\n",
    "plt.show()"
   ]
  },
  {
   "cell_type": "markdown",
   "metadata": {},
   "source": [
    "<p>&nbsp;</p>\n",
    "\n",
    "#### **Multinomial Naive Bayes**\n",
    "\n",
    "<p>&nbsp;</p>\n",
    "\n",
    "<font size = \"3\">\n",
    "\n",
    "I will build a pipeline that conducts the vectorization. I will be trying out different ways to vectorize to compare the performances. In the pipeline I will also train a multinomial naive bayes model. I will be using a grid search for hyper parameter tuning both on the vectorization and multinomial naive bayes model. I will loop through a 5 fold cross validation, apply the pipeline, and train and test a multinomial naive bayes model in each instance, and print out the resulting accuracy score. I will do separately for both predicting fake reviews and predicting the sentiment of the reviews."
   ]
  },
  {
   "cell_type": "code",
   "execution_count": 19,
   "metadata": {},
   "outputs": [],
   "source": [
    "# Import packages from scikit-learn\n",
    "from sklearn.pipeline import Pipeline\n",
    "from sklearn.naive_bayes import MultinomialNB\n",
    "from sklearn.model_selection import GridSearchCV\n",
    "from sklearn.model_selection import KFold\n",
    "from sklearn.metrics import accuracy_score\n",
    "from sklearn.feature_extraction.text import TfidfVectorizer"
   ]
  },
  {
   "cell_type": "code",
   "execution_count": 20,
   "metadata": {},
   "outputs": [],
   "source": [
    "# Set up the vectorization pipeline\n",
    "tfidf_pip = Pipeline([\n",
    "    ('tfidf_vectorizer', TfidfVectorizer())\n",
    "])"
   ]
  },
  {
   "cell_type": "code",
   "execution_count": 21,
   "metadata": {},
   "outputs": [],
   "source": [
    "# Set up the naive bayes pipeline\n",
    "mnb_pipeline = Pipeline([\n",
    "    ('tfidf_pip', tfidf_pip),\n",
    "    ('mnb', MultinomialNB())\n",
    "])"
   ]
  },
  {
   "cell_type": "code",
   "execution_count": 22,
   "metadata": {},
   "outputs": [],
   "source": [
    "# Set up the grid search params\n",
    "grid_params = {\n",
    "  'mnb__alpha': np.linspace(0.5, 1.5, 6),\n",
    "  'mnb__fit_prior': [True, False],\n",
    "  'tfidf_pip__tfidf_vectorizer__use_idf': [True, False],\n",
    "  'tfidf_pip__tfidf_vectorizer__max_df': np.linspace(0.1, 1, 10),\n",
    "  'tfidf_pip__tfidf_vectorizer__binary': [True, False],\n",
    "  'tfidf_pip__tfidf_vectorizer__norm': [None, 'l1', 'l2'], \n",
    "}"
   ]
  },
  {
   "cell_type": "code",
   "execution_count": 145,
   "metadata": {},
   "outputs": [
    {
     "name": "stdout",
     "output_type": "stream",
     "text": [
      "Run  1  Completed \n",
      "\n",
      "Train Score:  0.680952380952381\n",
      "Test Score  0.5555555555555556 \n",
      "\n",
      "Best Params:  {'mnb__alpha': 1.1, 'mnb__fit_prior': True, 'tfidf_pip__tfidf_vectorizer__binary': True, 'tfidf_pip__tfidf_vectorizer__max_df': 0.4, 'tfidf_pip__tfidf_vectorizer__norm': 'l2', 'tfidf_pip__tfidf_vectorizer__use_idf': True} \n",
      "\n",
      "Top 10 Most Predictive Features for Fake Reviews\n",
      "['watched' 'bento' 'group' 'least' 'want' 'waitresses' 'seem' 'terrific'\n",
      " 'assistant' 'pet'] \n",
      "\n",
      "Top 10 Most Predictive Features for Real Reviews\n",
      "['hasn' 'going' 'used' 'pet' 'nightmare' 'waitresses' 'weird' 'eventually'\n",
      " 'beef' 'slice'] \n",
      "\n",
      "Run  2  Completed \n",
      "\n",
      "Train Score:  0.6676190476190477\n",
      "Test Score  0.3333333333333333 \n",
      "\n",
      "Best Params:  {'mnb__alpha': 1.5, 'mnb__fit_prior': False, 'tfidf_pip__tfidf_vectorizer__binary': False, 'tfidf_pip__tfidf_vectorizer__max_df': 1.0, 'tfidf_pip__tfidf_vectorizer__norm': 'l2', 'tfidf_pip__tfidf_vectorizer__use_idf': False} \n",
      "\n",
      "Top 10 Most Predictive Features for Fake Reviews\n",
      "['the' 'and' 'to' 'was' 'of' 'it' 'is' 'in' 'we' 'had'] \n",
      "\n",
      "Top 10 Most Predictive Features for Real Reviews\n",
      "['the' 'and' 'is' 'to' 'it' 'was' 'of' 'restaurant' 'food' 'my'] \n",
      "\n",
      "Run  3  Completed \n",
      "\n",
      "Train Score:  0.6628571428571428\n",
      "Test Score  0.4444444444444444 \n",
      "\n",
      "Best Params:  {'mnb__alpha': 1.5, 'mnb__fit_prior': True, 'tfidf_pip__tfidf_vectorizer__binary': False, 'tfidf_pip__tfidf_vectorizer__max_df': 0.7000000000000001, 'tfidf_pip__tfidf_vectorizer__norm': 'l2', 'tfidf_pip__tfidf_vectorizer__use_idf': False} \n",
      "\n",
      "Top 10 Most Predictive Features for Fake Reviews\n",
      "['irony' 'want' 'impossible' 'isolated' 'obnoxious' 'reserve' 'followed'\n",
      " 'food' 'music' 'wings'] \n",
      "\n",
      "Top 10 Most Predictive Features for Real Reviews\n",
      "['want' 'irony' 'isolated' 'obnoxious' 'followed' 'reserve' 'impossible'\n",
      " 'yelp' 'food' 'music'] \n",
      "\n",
      "Run  4  Completed \n",
      "\n",
      "Train Score:  0.7390476190476191\n",
      "Test Score  0.2222222222222222 \n",
      "\n",
      "Best Params:  {'mnb__alpha': 1.1, 'mnb__fit_prior': False, 'tfidf_pip__tfidf_vectorizer__binary': True, 'tfidf_pip__tfidf_vectorizer__max_df': 1.0, 'tfidf_pip__tfidf_vectorizer__norm': 'l1', 'tfidf_pip__tfidf_vectorizer__use_idf': True} \n",
      "\n",
      "Top 10 Most Predictive Features for Fake Reviews\n",
      "['the' 'and' 'to' 'was' 'for' 'of' 'with' 'went' 'food' 'in'] \n",
      "\n",
      "Top 10 Most Predictive Features for Real Reviews\n",
      "['restaurant' 'the' 'is' 'food' 'and' 'it' 'good' 'very' 'to' 'was'] \n",
      "\n",
      "Run  5  Completed \n",
      "\n",
      "Train Score:  0.6114285714285714\n",
      "Test Score  0.6111111111111112 \n",
      "\n",
      "Best Params:  {'mnb__alpha': 0.5, 'mnb__fit_prior': False, 'tfidf_pip__tfidf_vectorizer__binary': True, 'tfidf_pip__tfidf_vectorizer__max_df': 0.1, 'tfidf_pip__tfidf_vectorizer__norm': 'l2', 'tfidf_pip__tfidf_vectorizer__use_idf': True} \n",
      "\n",
      "Top 10 Most Predictive Features for Fake Reviews\n",
      "['turn' 'choked' 'know' 'times' 'dinosaur' 'gotten' 'blanking'\n",
      " 'completely' 'current' 'already'] \n",
      "\n",
      "Top 10 Most Predictive Features for Real Reviews\n",
      "['eat' 'finished' 'appealing' 'unfriendly' 'gulab' 'extravaganzaburger'\n",
      " 'munchies' 'however' 'back' 'special'] \n",
      "\n"
     ]
    }
   ],
   "source": [
    "# Initiate the split object\n",
    "split = KFold(n_splits = 5, shuffle = True, random_state = 42)\n",
    "\n",
    "# Initiate a counter\n",
    "run_counter = 0\n",
    "\n",
    "# Initiate lists to store the results in\n",
    "run_number = []\n",
    "train_accuracy = []\n",
    "test_accuracy = []\n",
    "parameters = []\n",
    "\n",
    "# Iterate through each fold and conduct the process\n",
    "for train_index, test_index in split.split(reviews_df, reviews_df[\"reviews\"]):\n",
    "\n",
    "    # Seperate out the train and test sets\n",
    "    train_data = reviews_df.iloc[train_index, :]\n",
    "    test_data = reviews_df.iloc[test_index, :]\n",
    "    \n",
    "    # Separate out the predictors\n",
    "    X_train = train_data[\"reviews\"]\n",
    "    X_test = test_data[\"reviews\"]\n",
    "    \n",
    "    # Seperate out the class labels\n",
    "    y_train = train_data[\"is_fake\"].copy()\n",
    "    y_test = test_data[\"is_fake\"].copy()\n",
    "\n",
    "    # Train model and and make predictions\n",
    "    clf = GridSearchCV(mnb_pipeline, grid_params)\n",
    "    clf.fit(X_train, y_train)\n",
    "    predictions = clf.predict(X_test)\n",
    "\n",
    "    # Store the information from the run\n",
    "    train_score = clf.best_score_\n",
    "    test_score = accuracy_score(y_test, predictions)\n",
    "    best_params = clf.best_params_\n",
    "\n",
    "    # Append this information to the cumulative lists\n",
    "    run_number.append(run_counter + 1)\n",
    "    train_accuracy.append(train_score)\n",
    "    test_accuracy.append(test_score)\n",
    "    parameters.append(best_params)\n",
    "\n",
    "    # Update the counter after each iteration\n",
    "    run_counter += 1\n",
    "\n",
    "    # Create a dummy vectorizer just to get the feature names\n",
    "    dummy_vectorizer = TfidfVectorizer()\n",
    "    dummy_vect_data = dummy_vectorizer.fit_transform(X_train)\n",
    "\n",
    "    # Get the fake and real log probability arrays and sort ascending\n",
    "    neg_class_prob_sorted = clf.best_estimator_.named_steps[\"mnb\"].feature_log_prob_[0].argsort()[::-1]   # fake review log probabilities\n",
    "    pos_class_prob_sorted = clf.best_estimator_.named_steps[\"mnb\"].feature_log_prob_[1].argsort()[::-1]   # real review log probaiblities\n",
    "\n",
    "    # Print out the results\n",
    "    print(\"Run \", run_counter, \" Completed\", \"\\n\")\n",
    "    print(\"Train Score: \", train_score)\n",
    "    print(\"Test Score \", test_score, \"\\n\")\n",
    "    print(\"Best Params: \", best_params, \"\\n\")\n",
    "\n",
    "    # Print out the top 10 most predictive features for fake reviews\n",
    "    print(\"Top 10 Most Predictive Features for Fake Reviews\")\n",
    "    print(np.take(dummy_vectorizer.get_feature_names(), neg_class_prob_sorted[:10]), \"\\n\")\n",
    "\n",
    "    # Print out the top 10 most predictive features for real reviews\n",
    "    print(\"Top 10 Most Predictive Features for Real Reviews\")\n",
    "    print(np.take(dummy_vectorizer.get_feature_names(), pos_class_prob_sorted[:10]), \"\\n\")"
   ]
  },
  {
   "cell_type": "code",
   "execution_count": 146,
   "metadata": {},
   "outputs": [
    {
     "name": "stdout",
     "output_type": "stream",
     "text": [
      "Run  1  Completed\n",
      "Train Score:  0.9028571428571428\n",
      "Test Score  0.9444444444444444\n",
      "Best Params:  {'mnb__alpha': 0.5, 'mnb__fit_prior': True, 'tfidf_pip__tfidf_vectorizer__binary': False, 'tfidf_pip__tfidf_vectorizer__max_df': 0.8, 'tfidf_pip__tfidf_vectorizer__norm': None, 'tfidf_pip__tfidf_vectorizer__use_idf': False} \n",
      "\n",
      "Top 10 Most Predictive Features for Negative Reviews\n",
      "['time' 'warm' 'obviously' 'isn' 'watched' 'iron' 'music' 'food' 'imagine'\n",
      " 'than'] \n",
      "\n",
      "Top 10 Most Predictive Features for Positive Reviews\n",
      "['iron' 'time' 'isn' 'obviously' 'warm' 'winning' 'rest' 'followed'\n",
      " 'imagine' 'music'] \n",
      "\n",
      "Run  2  Completed\n",
      "Train Score:  0.9304761904761906\n",
      "Test Score  0.7777777777777778\n",
      "Best Params:  {'mnb__alpha': 1.1, 'mnb__fit_prior': False, 'tfidf_pip__tfidf_vectorizer__binary': False, 'tfidf_pip__tfidf_vectorizer__max_df': 0.30000000000000004, 'tfidf_pip__tfidf_vectorizer__norm': None, 'tfidf_pip__tfidf_vectorizer__use_idf': False} \n",
      "\n",
      "Top 10 Most Predictive Features for Negative Reviews\n",
      "['waitstaff' 'burrata' 'want' 'melted' 'open' 'arrived' 'whom' 'without'\n",
      " 'twin' 'or'] \n",
      "\n",
      "Top 10 Most Predictive Features for Positive Reviews\n",
      "['bengan' 'good' 'tea' 'hard' 'ny' 'waitstaff' 'appropriative' 'wasn'\n",
      " 'sip' 'amazing'] \n",
      "\n",
      "Run  3  Completed\n",
      "Train Score:  0.8904761904761905\n",
      "Test Score  1.0\n",
      "Best Params:  {'mnb__alpha': 1.5, 'mnb__fit_prior': False, 'tfidf_pip__tfidf_vectorizer__binary': False, 'tfidf_pip__tfidf_vectorizer__max_df': 1.0, 'tfidf_pip__tfidf_vectorizer__norm': 'l2', 'tfidf_pip__tfidf_vectorizer__use_idf': True} \n",
      "\n",
      "Top 10 Most Predictive Features for Negative Reviews\n",
      "['the' 'to' 'was' 'and' 'it' 'of' 'we' 'that' 'in' 'not'] \n",
      "\n",
      "Top 10 Most Predictive Features for Positive Reviews\n",
      "['the' 'and' 'is' 'great' 'to' 'restaurant' 'you' 'food' 'of' 'it'] \n",
      "\n",
      "Run  4  Completed\n",
      "Train Score:  0.8771428571428572\n",
      "Test Score  0.7222222222222222\n",
      "Best Params:  {'mnb__alpha': 0.5, 'mnb__fit_prior': True, 'tfidf_pip__tfidf_vectorizer__binary': False, 'tfidf_pip__tfidf_vectorizer__max_df': 0.6, 'tfidf_pip__tfidf_vectorizer__norm': None, 'tfidf_pip__tfidf_vectorizer__use_idf': False} \n",
      "\n",
      "Top 10 Most Predictive Features for Negative Reviews\n",
      "['wasn' 'much' 'than' 'nyc' 'food' 'nor' 'irony' 'guy' 'followed'\n",
      " 'reserve'] \n",
      "\n",
      "Top 10 Most Predictive Features for Positive Reviews\n",
      "['irony' 'nyc' 'will' 'followed' 'food' 'impossible' 'reserve' 'bento'\n",
      " 'xyz' 'much'] \n",
      "\n",
      "Run  5  Completed\n",
      "Train Score:  0.9161904761904761\n",
      "Test Score  0.7222222222222222\n",
      "Best Params:  {'mnb__alpha': 0.5, 'mnb__fit_prior': False, 'tfidf_pip__tfidf_vectorizer__binary': False, 'tfidf_pip__tfidf_vectorizer__max_df': 0.4, 'tfidf_pip__tfidf_vectorizer__norm': 'l1', 'tfidf_pip__tfidf_vectorizer__use_idf': False} \n",
      "\n",
      "Top 10 Most Predictive Features for Negative Reviews\n",
      "['wake' 'night' 'group' 'thanks' 'we' 'was' 'wasn' 'perplexing' 'terrible'\n",
      " 'one'] \n",
      "\n",
      "Top 10 Most Predictive Features for Positive Reviews\n",
      "['good' 'bengan' 'group' 'used' 'worse' 'thanks' 'go' 'tgi' 'has'\n",
      " 'perplexing'] \n",
      "\n"
     ]
    }
   ],
   "source": [
    "# Initiate the split object\n",
    "split = KFold(n_splits = 5, shuffle = True, random_state = 42)\n",
    "\n",
    "# Initiate a counter\n",
    "run_counter = 0\n",
    "\n",
    "# Initiate lists to store the results in\n",
    "run_number = []\n",
    "train_accuracy = []\n",
    "test_accuracy = []\n",
    "parameters = []\n",
    "\n",
    "# Iterate through each fold and conduct the process\n",
    "for train_index, test_index in split.split(reviews_df, reviews_df[\"reviews\"]):\n",
    "\n",
    "    # Seperate out the train and test sets\n",
    "    train_data = reviews_df.iloc[train_index, :]\n",
    "    test_data = reviews_df.iloc[test_index, :]\n",
    "    \n",
    "    # Separate out the predictors\n",
    "    X_train = train_data[\"reviews\"]\n",
    "    X_test = test_data[\"reviews\"]\n",
    "    \n",
    "    # Seperate out the class labels\n",
    "    y_train = train_data[\"sentiment\"].copy()\n",
    "    y_test = test_data[\"sentiment\"].copy()\n",
    "\n",
    "    # Train model and and make predictions\n",
    "    clf = GridSearchCV(mnb_pipeline, grid_params)\n",
    "    clf.fit(X_train, y_train)\n",
    "    predictions = clf.predict(X_test)\n",
    "\n",
    "    # Store the information from the run\n",
    "    train_score = clf.best_score_\n",
    "    test_score = accuracy_score(y_test, predictions)\n",
    "    best_params = clf.best_params_\n",
    "\n",
    "    # Append this information to the cumulative lists\n",
    "    run_number.append(run_counter + 1)\n",
    "    train_accuracy.append(train_score)\n",
    "    test_accuracy.append(test_score)\n",
    "    parameters.append(best_params)\n",
    "\n",
    "    # Update the counter after each iteration\n",
    "    run_counter += 1\n",
    "\n",
    "    # Create a dummy vectorizer just to get the feature names\n",
    "    dummy_vectorizer = TfidfVectorizer()\n",
    "    dummy_vect_data = dummy_vectorizer.fit_transform(X_train)\n",
    "\n",
    "    # Get the negative and positive log probability arrays and sort ascending\n",
    "    neg_class_prob_sorted = clf.best_estimator_.named_steps[\"mnb\"].feature_log_prob_[0].argsort()[::-1]   # negative log probabilities\n",
    "    pos_class_prob_sorted = clf.best_estimator_.named_steps[\"mnb\"].feature_log_prob_[1].argsort()[::-1]   # positive log probabilities\n",
    "\n",
    "    # Print out the results\n",
    "    print(\"Run \", run_counter, \" Completed\")\n",
    "    print(\"Train Score: \", train_score)\n",
    "    print(\"Test Score \", test_score)\n",
    "    print(\"Best Params: \", best_params, \"\\n\")\n",
    "\n",
    "    # Print out the top 10 most predictive features for fake reviews\n",
    "    print(\"Top 10 Most Predictive Features for Negative Reviews\")\n",
    "    print(np.take(dummy_vectorizer.get_feature_names(), neg_class_prob_sorted[:10]), \"\\n\")\n",
    "\n",
    "    # Print out the top 10 most predictive features for real reviews\n",
    "    print(\"Top 10 Most Predictive Features for Positive Reviews\")\n",
    "    print(np.take(dummy_vectorizer.get_feature_names(), pos_class_prob_sorted[:10]), \"\\n\")"
   ]
  },
  {
   "cell_type": "markdown",
   "metadata": {},
   "source": [
    "<p>&nbsp;</p>\n",
    "\n",
    "### **Conclusion**\n",
    "\n",
    "<p>&nbsp;</p>\n",
    "\n",
    "<font size = \"3\">\n",
    "\n",
    "When it came to predicting whether or not the review was fake, the model did not do a very good job. There was more variability in the accuracy scores and most of the cross validations were overtrained. In addition, the words that the model thought were important for predicting whether a review was fake or not did not seem intuitive to me. I am not surprised that htis is the case because it can be difficult enough for a human to determine if a review is fake or not. There is too much ambiguity in determining whether a review is fake or not.\n",
    "\n",
    "On the other hand, predicting sentiment seems much more straight forward and objective. It is typically pretty clear when looking at a review to tell whether it is positive or negative based on certain words that are being used. The model was able to pick up on this pretty accurately with less overtraining but still likely some overtraining.\n",
    "\n",
    "I think that it would be helpful to have more data. The small sample that is provided can only get so far. I would have been interested to do a \"leave one out\" cross validation, but this would have been too labor intensive. It already took my machine about 10 minutes to run the 5 fold cross validation, granted I used a grid search for hyperparameter tuning which of course adds some time to the model training."
   ]
  }
 ],
 "metadata": {
  "interpreter": {
   "hash": "837a5e7ae28b4e198c1d8cf4796a058d56e0b65e3e1483208ccae61f9a209f4c"
  },
  "kernelspec": {
   "display_name": "Python 3.8.8 64-bit ('base': conda)",
   "name": "python3"
  },
  "language_info": {
   "codemirror_mode": {
    "name": "ipython",
    "version": 3
   },
   "file_extension": ".py",
   "mimetype": "text/x-python",
   "name": "python",
   "nbconvert_exporter": "python",
   "pygments_lexer": "ipython3",
   "version": "3.8.8"
  },
  "orig_nbformat": 4
 },
 "nbformat": 4,
 "nbformat_minor": 2
}
