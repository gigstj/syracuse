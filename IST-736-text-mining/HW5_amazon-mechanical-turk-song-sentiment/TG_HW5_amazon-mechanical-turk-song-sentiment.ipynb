{
 "cells": [
  {
   "cell_type": "markdown",
   "metadata": {},
   "source": [
    "<p>&nbsp;</p>\n",
    "\n",
    "### **Experimental Design**\n",
    "\n",
    "<p>&nbsp;</p>\n",
    "\n",
    "<font size = \"3\">\n",
    "\n",
    "In this task, I will be retrieving annotations via Amazon Mechanical Turk for the audio valence of the lyrics 77 songs. Each song will be graded by 3 different turkers on a scale of sad, neutral, or happy. I chose to pay at a rate of 10 cents per song, at a maximum of 30 minutes time, giving the turkers a total of $7.70 for completing the assignment. I felt that this was fair given that that it is about twice the amount of federal minimum wage. My only requirement was that the turkers are able to read english.\n",
    "\n",
    "<p>&nbsp;</p>"
   ]
  },
  {
   "cell_type": "code",
   "execution_count": 2,
   "metadata": {},
   "outputs": [],
   "source": [
    "# Load packages\n",
    "import pandas as pd"
   ]
  },
  {
   "cell_type": "code",
   "execution_count": 10,
   "metadata": {},
   "outputs": [
    {
     "name": "stdout",
     "output_type": "stream",
     "text": [
      "when you walked by i saw a small tear in your eye lifted you up and threw you into the sun when you returned you were a little burned but you learned the secret of it all and you thought that you would burn but thatd be too easy it was only the end of the beginning cause now it can be elvis and me i thought you knew what it was that i had to do never occurred that you would just roll over i had to go not very long though you know guess for you it was an eternity and if you think youve got it now go start your crying its gonna be different when im home cause its gonna be elvis and me its just elvis and me its gonna be elvis and me just elvis and me just elvis and me and if you think youve got it now go start your crying its gonna be different when im home cause its gonna be elvis and me i wish i could fix it so that you understood if i cracked my head it would bleed like mercury the pieces of the poison raining above wont touch you now ill never let it again so if you think youve got it now continue your crying its gonna be different when im home cause its gonna be elvis and me its just elvis and me its always been elvis and me just elvis and me \n",
      "\n",
      "Neutral \n",
      "\n",
      "hey battle cat its your dog bitch snoopy do double g aka i was thinking we need to take it back to the way it used to be you feel me yeah come on yeah drift with me drift with me come on drift with me yall take it back to the afros and the naturals kate cut it pits we slips into the backbones oh g my nigga for real dont straight up on the east side top of the hill yeah im looking at the over view take it bow 86 damn i look overdue walking in the hood making mix tapes tryin to walk about the hood while im chalking up the hood nigga talk about the hood that i came from it braves me thats real crip crazy what up oopsie daisy demon or a heathen speedin while im dreamin screamin micky deedin seein is believin and dont you forget that get it to you get back hit that kick back three flies one away reminiscin bout the things that my grandmama used to say stay in your own lane stay on your own and quick tryin to be grown day turn to night and play turn the fight its all right gee i guess my granny was right reflections of the way life used to be its all right i like the girls from the darin heights or the girls on heels i take a trip up to world on wheels and get in a fight make it back to my bride pop shots thats some fuckers disrespectin the side my big homie my hustle schoolyard bozo slid me the way just to get me the way im a long beach nigga outside of my hood im banging right but doin it good and when i get locked down aint no hidin and wonderin as soon as i hit the county im mockin fortyeight hundred put the dillers the killers the rillas the beasts the best from the west and the beast from the east yeah im actin a fool im gettin my degree from gladiator school i chose this life cause i knows this life sell a little crack and my flows is tight im playin my choice and whats cold is i can still here my grandmas voice she say day turn to night and play turn the fight its all right shit i guess my granny was right reflections of the way life used to be its all right if you get caught and you dont walk cause you dont talk and these was the rules squeeze on as fools i came up in a different era homie where the gs hit the gs and the little wannabes really homie wanna be like cause they see like make you wanna g like now who you wanna be like snoop that fool on the tv screen or the homie on the corner getting major cream in a cadillac beatin like battle cat a nigga with money who dont know how to act smoke to your eyes get cataracts all money not six yeah none of that hold a sec run it back hold it back rock him up bag him up fight him back if the trick ruckers rat do you want your money back know this was a money rat watch for the funny act cause this dont come and my granny said its no fun she say day turn to night and play turn the fight its all right gee i guess my granny was right reflections of the way life used to be its all right \n",
      "\n",
      "Neutral \n",
      "\n",
      "al kooper spoken house in the country take one no need to worry folks in a hurry leave them behind you no one can find you house in the country house in the country all the relaxin will soon fill the cracks in good for your head too if you are led to house in the country house in the country green surrounding love abounding you wont find a manhole there yes yes i need you come let me feed you ive never tried to come let me hide you house in the country house in the country i have never brought anybody there bring your own chair to sleep in when we arrive after the drive then you can shower and talk for an hour then sleep in your chair instrumental interlude sleep on the floor there dont ask for more there sun wakes you up too glad you came up to house in the country house in the country la la la la la etc house in the country x4 explain request × \n",
      "\n",
      "Neutral \n",
      "\n",
      "its already friday and soon itll be friday night and if youve got something planned i suppose ill understand but give me half an hour and ill meet you in the gardens ill probably be waiting under the rotunda if its raining and somewhere near the seesaws if its not we can wander round the football ground as the sun sets on the grandstand if it gets a little cold there we can hold hands in the goal square its getting dark and baby dont the shops shine bright ive been here for hours i cant see the florist for the flowers and i cant see the point in hanging around i know weve done all this before but once more wont hurt so lets do it once more bereft of ideas we live here but were sightseers somewhere over the railway line theres a light on in your loungeroom do you remember when i found you fast asleep you were so slow to your feet i didnt mean to yell its just that im a little jealous cause you can do the rubiks cube and i cant i relied on blind faith and dumb luck but eventually the stickers came unstuck i know weve done all this before but once more wont hurt so lets do it once more bereft of ideas we live here but were sightseers train robbers wives world encyclopedia of twentieth century murder the invention of ordinary everyday things punchlines columns o steam up wyoming little athletics lyrics lyrics l l the lucksmiths the lucksmiths under the rotunda lyrics \n",
      "\n",
      "Happy \n",
      "\n",
      "listen while you read judy wrote the saddest song she showed it to a boy in school today judy where did you go wrong you used to make me smile when i was down judy was a teenage rebel she did it with a boy when she was young she gave herself the books and learning she gave herself to being number one judy i dont know you if youre gonna show me everything judy i dont know you if youre gonna show me everything judy got a book at school she went under the covers with her torch she fell asleep till it was morning she dreamt about the girl who stole a horse judy never felt so good except when she was sleeping judy never felt so good except when she was sleeping judy lets go for a walk we can kiss and do whatever you want but you will be disappointed you will fall asleep with ants in your pants judy youre just trying to find and keep the dream of horses and the song she wrote was judy and the dream of horses dream of horses you dream of horses you dream of horses the best looking boys are taken the best looking girls are staying inside so judy where does that lead you walking the street from morning to night with a star upon your shoulder lighting up the path that you walk with a parrot on your shoulder saying everything when you talk if youre ever feeling blue then write another song about your dream of horses write a song about your dream of horses call it judy and the dream of horses call it judy and the dream of horses you dream of horses you dream of horses you dream of horses you dream of horses \n",
      "\n",
      "Sad \n",
      "\n"
     ]
    }
   ],
   "source": [
    "# Show a preview of the annotations for turker 1\n",
    "turker1 = pd.read_csv(\"Batch_4607509_batch_results.csv\")\n",
    "for sample_number in range(0, 5):\n",
    "    print(list(turker1[\"Input.Lyrics\"])[sample_number], \"\\n\")\n",
    "    print(list(turker1[\"Answer.Audio Valence.label\"])[sample_number], \"\\n\")"
   ]
  },
  {
   "cell_type": "code",
   "execution_count": 11,
   "metadata": {},
   "outputs": [
    {
     "name": "stdout",
     "output_type": "stream",
     "text": [
      "when you walked by i saw a small tear in your eye lifted you up and threw you into the sun when you returned you were a little burned but you learned the secret of it all and you thought that you would burn but thatd be too easy it was only the end of the beginning cause now it can be elvis and me i thought you knew what it was that i had to do never occurred that you would just roll over i had to go not very long though you know guess for you it was an eternity and if you think youve got it now go start your crying its gonna be different when im home cause its gonna be elvis and me its just elvis and me its gonna be elvis and me just elvis and me just elvis and me and if you think youve got it now go start your crying its gonna be different when im home cause its gonna be elvis and me i wish i could fix it so that you understood if i cracked my head it would bleed like mercury the pieces of the poison raining above wont touch you now ill never let it again so if you think youve got it now continue your crying its gonna be different when im home cause its gonna be elvis and me its just elvis and me its always been elvis and me just elvis and me \n",
      "\n",
      "Sad \n",
      "\n",
      "hey battle cat its your dog bitch snoopy do double g aka i was thinking we need to take it back to the way it used to be you feel me yeah come on yeah drift with me drift with me come on drift with me yall take it back to the afros and the naturals kate cut it pits we slips into the backbones oh g my nigga for real dont straight up on the east side top of the hill yeah im looking at the over view take it bow 86 damn i look overdue walking in the hood making mix tapes tryin to walk about the hood while im chalking up the hood nigga talk about the hood that i came from it braves me thats real crip crazy what up oopsie daisy demon or a heathen speedin while im dreamin screamin micky deedin seein is believin and dont you forget that get it to you get back hit that kick back three flies one away reminiscin bout the things that my grandmama used to say stay in your own lane stay on your own and quick tryin to be grown day turn to night and play turn the fight its all right gee i guess my granny was right reflections of the way life used to be its all right i like the girls from the darin heights or the girls on heels i take a trip up to world on wheels and get in a fight make it back to my bride pop shots thats some fuckers disrespectin the side my big homie my hustle schoolyard bozo slid me the way just to get me the way im a long beach nigga outside of my hood im banging right but doin it good and when i get locked down aint no hidin and wonderin as soon as i hit the county im mockin fortyeight hundred put the dillers the killers the rillas the beasts the best from the west and the beast from the east yeah im actin a fool im gettin my degree from gladiator school i chose this life cause i knows this life sell a little crack and my flows is tight im playin my choice and whats cold is i can still here my grandmas voice she say day turn to night and play turn the fight its all right shit i guess my granny was right reflections of the way life used to be its all right if you get caught and you dont walk cause you dont talk and these was the rules squeeze on as fools i came up in a different era homie where the gs hit the gs and the little wannabes really homie wanna be like cause they see like make you wanna g like now who you wanna be like snoop that fool on the tv screen or the homie on the corner getting major cream in a cadillac beatin like battle cat a nigga with money who dont know how to act smoke to your eyes get cataracts all money not six yeah none of that hold a sec run it back hold it back rock him up bag him up fight him back if the trick ruckers rat do you want your money back know this was a money rat watch for the funny act cause this dont come and my granny said its no fun she say day turn to night and play turn the fight its all right gee i guess my granny was right reflections of the way life used to be its all right \n",
      "\n",
      "Sad \n",
      "\n",
      "al kooper spoken house in the country take one no need to worry folks in a hurry leave them behind you no one can find you house in the country house in the country all the relaxin will soon fill the cracks in good for your head too if you are led to house in the country house in the country green surrounding love abounding you wont find a manhole there yes yes i need you come let me feed you ive never tried to come let me hide you house in the country house in the country i have never brought anybody there bring your own chair to sleep in when we arrive after the drive then you can shower and talk for an hour then sleep in your chair instrumental interlude sleep on the floor there dont ask for more there sun wakes you up too glad you came up to house in the country house in the country la la la la la etc house in the country x4 explain request × \n",
      "\n",
      "Sad \n",
      "\n",
      "its already friday and soon itll be friday night and if youve got something planned i suppose ill understand but give me half an hour and ill meet you in the gardens ill probably be waiting under the rotunda if its raining and somewhere near the seesaws if its not we can wander round the football ground as the sun sets on the grandstand if it gets a little cold there we can hold hands in the goal square its getting dark and baby dont the shops shine bright ive been here for hours i cant see the florist for the flowers and i cant see the point in hanging around i know weve done all this before but once more wont hurt so lets do it once more bereft of ideas we live here but were sightseers somewhere over the railway line theres a light on in your loungeroom do you remember when i found you fast asleep you were so slow to your feet i didnt mean to yell its just that im a little jealous cause you can do the rubiks cube and i cant i relied on blind faith and dumb luck but eventually the stickers came unstuck i know weve done all this before but once more wont hurt so lets do it once more bereft of ideas we live here but were sightseers train robbers wives world encyclopedia of twentieth century murder the invention of ordinary everyday things punchlines columns o steam up wyoming little athletics lyrics lyrics l l the lucksmiths the lucksmiths under the rotunda lyrics \n",
      "\n",
      "Happy \n",
      "\n",
      "listen while you read judy wrote the saddest song she showed it to a boy in school today judy where did you go wrong you used to make me smile when i was down judy was a teenage rebel she did it with a boy when she was young she gave herself the books and learning she gave herself to being number one judy i dont know you if youre gonna show me everything judy i dont know you if youre gonna show me everything judy got a book at school she went under the covers with her torch she fell asleep till it was morning she dreamt about the girl who stole a horse judy never felt so good except when she was sleeping judy never felt so good except when she was sleeping judy lets go for a walk we can kiss and do whatever you want but you will be disappointed you will fall asleep with ants in your pants judy youre just trying to find and keep the dream of horses and the song she wrote was judy and the dream of horses dream of horses you dream of horses you dream of horses the best looking boys are taken the best looking girls are staying inside so judy where does that lead you walking the street from morning to night with a star upon your shoulder lighting up the path that you walk with a parrot on your shoulder saying everything when you talk if youre ever feeling blue then write another song about your dream of horses write a song about your dream of horses call it judy and the dream of horses call it judy and the dream of horses you dream of horses you dream of horses you dream of horses you dream of horses \n",
      "\n",
      "Neutral \n",
      "\n"
     ]
    }
   ],
   "source": [
    "# Show a preview of the annotations for turker 2\n",
    "turker2 = pd.read_csv(\"Batch_4607507_batch_results.csv\")\n",
    "for sample_number in range(0, 5):\n",
    "    print(list(turker2[\"Input.Lyrics\"])[sample_number], \"\\n\")\n",
    "    print(list(turker2[\"Answer.Audio Valence.label\"])[sample_number], \"\\n\")"
   ]
  },
  {
   "cell_type": "code",
   "execution_count": 12,
   "metadata": {},
   "outputs": [
    {
     "name": "stdout",
     "output_type": "stream",
     "text": [
      "when you walked by i saw a small tear in your eye lifted you up and threw you into the sun when you returned you were a little burned but you learned the secret of it all and you thought that you would burn but thatd be too easy it was only the end of the beginning cause now it can be elvis and me i thought you knew what it was that i had to do never occurred that you would just roll over i had to go not very long though you know guess for you it was an eternity and if you think youve got it now go start your crying its gonna be different when im home cause its gonna be elvis and me its just elvis and me its gonna be elvis and me just elvis and me just elvis and me and if you think youve got it now go start your crying its gonna be different when im home cause its gonna be elvis and me i wish i could fix it so that you understood if i cracked my head it would bleed like mercury the pieces of the poison raining above wont touch you now ill never let it again so if you think youve got it now continue your crying its gonna be different when im home cause its gonna be elvis and me its just elvis and me its always been elvis and me just elvis and me \n",
      "\n",
      "Happy \n",
      "\n",
      "hey battle cat its your dog bitch snoopy do double g aka i was thinking we need to take it back to the way it used to be you feel me yeah come on yeah drift with me drift with me come on drift with me yall take it back to the afros and the naturals kate cut it pits we slips into the backbones oh g my nigga for real dont straight up on the east side top of the hill yeah im looking at the over view take it bow 86 damn i look overdue walking in the hood making mix tapes tryin to walk about the hood while im chalking up the hood nigga talk about the hood that i came from it braves me thats real crip crazy what up oopsie daisy demon or a heathen speedin while im dreamin screamin micky deedin seein is believin and dont you forget that get it to you get back hit that kick back three flies one away reminiscin bout the things that my grandmama used to say stay in your own lane stay on your own and quick tryin to be grown day turn to night and play turn the fight its all right gee i guess my granny was right reflections of the way life used to be its all right i like the girls from the darin heights or the girls on heels i take a trip up to world on wheels and get in a fight make it back to my bride pop shots thats some fuckers disrespectin the side my big homie my hustle schoolyard bozo slid me the way just to get me the way im a long beach nigga outside of my hood im banging right but doin it good and when i get locked down aint no hidin and wonderin as soon as i hit the county im mockin fortyeight hundred put the dillers the killers the rillas the beasts the best from the west and the beast from the east yeah im actin a fool im gettin my degree from gladiator school i chose this life cause i knows this life sell a little crack and my flows is tight im playin my choice and whats cold is i can still here my grandmas voice she say day turn to night and play turn the fight its all right shit i guess my granny was right reflections of the way life used to be its all right if you get caught and you dont walk cause you dont talk and these was the rules squeeze on as fools i came up in a different era homie where the gs hit the gs and the little wannabes really homie wanna be like cause they see like make you wanna g like now who you wanna be like snoop that fool on the tv screen or the homie on the corner getting major cream in a cadillac beatin like battle cat a nigga with money who dont know how to act smoke to your eyes get cataracts all money not six yeah none of that hold a sec run it back hold it back rock him up bag him up fight him back if the trick ruckers rat do you want your money back know this was a money rat watch for the funny act cause this dont come and my granny said its no fun she say day turn to night and play turn the fight its all right gee i guess my granny was right reflections of the way life used to be its all right \n",
      "\n",
      "Sad \n",
      "\n",
      "al kooper spoken house in the country take one no need to worry folks in a hurry leave them behind you no one can find you house in the country house in the country all the relaxin will soon fill the cracks in good for your head too if you are led to house in the country house in the country green surrounding love abounding you wont find a manhole there yes yes i need you come let me feed you ive never tried to come let me hide you house in the country house in the country i have never brought anybody there bring your own chair to sleep in when we arrive after the drive then you can shower and talk for an hour then sleep in your chair instrumental interlude sleep on the floor there dont ask for more there sun wakes you up too glad you came up to house in the country house in the country la la la la la etc house in the country x4 explain request × \n",
      "\n",
      "Neutral \n",
      "\n",
      "its already friday and soon itll be friday night and if youve got something planned i suppose ill understand but give me half an hour and ill meet you in the gardens ill probably be waiting under the rotunda if its raining and somewhere near the seesaws if its not we can wander round the football ground as the sun sets on the grandstand if it gets a little cold there we can hold hands in the goal square its getting dark and baby dont the shops shine bright ive been here for hours i cant see the florist for the flowers and i cant see the point in hanging around i know weve done all this before but once more wont hurt so lets do it once more bereft of ideas we live here but were sightseers somewhere over the railway line theres a light on in your loungeroom do you remember when i found you fast asleep you were so slow to your feet i didnt mean to yell its just that im a little jealous cause you can do the rubiks cube and i cant i relied on blind faith and dumb luck but eventually the stickers came unstuck i know weve done all this before but once more wont hurt so lets do it once more bereft of ideas we live here but were sightseers train robbers wives world encyclopedia of twentieth century murder the invention of ordinary everyday things punchlines columns o steam up wyoming little athletics lyrics lyrics l l the lucksmiths the lucksmiths under the rotunda lyrics \n",
      "\n",
      "Happy \n",
      "\n",
      "listen while you read judy wrote the saddest song she showed it to a boy in school today judy where did you go wrong you used to make me smile when i was down judy was a teenage rebel she did it with a boy when she was young she gave herself the books and learning she gave herself to being number one judy i dont know you if youre gonna show me everything judy i dont know you if youre gonna show me everything judy got a book at school she went under the covers with her torch she fell asleep till it was morning she dreamt about the girl who stole a horse judy never felt so good except when she was sleeping judy never felt so good except when she was sleeping judy lets go for a walk we can kiss and do whatever you want but you will be disappointed you will fall asleep with ants in your pants judy youre just trying to find and keep the dream of horses and the song she wrote was judy and the dream of horses dream of horses you dream of horses you dream of horses the best looking boys are taken the best looking girls are staying inside so judy where does that lead you walking the street from morning to night with a star upon your shoulder lighting up the path that you walk with a parrot on your shoulder saying everything when you talk if youre ever feeling blue then write another song about your dream of horses write a song about your dream of horses call it judy and the dream of horses call it judy and the dream of horses you dream of horses you dream of horses you dream of horses you dream of horses \n",
      "\n",
      "Happy \n",
      "\n"
     ]
    }
   ],
   "source": [
    "# Show a preview of the annotations for turker 3\n",
    "turker3 = pd.read_csv(\"Batch_4607506_batch_results.csv\")\n",
    "for sample_number in range(0, 5):\n",
    "    print(list(turker3[\"Input.Lyrics\"])[sample_number], \"\\n\")\n",
    "    print(list(turker3[\"Answer.Audio Valence.label\"])[sample_number], \"\\n\")"
   ]
  },
  {
   "cell_type": "code",
   "execution_count": 19,
   "metadata": {},
   "outputs": [
    {
     "name": "stdout",
     "output_type": "stream",
     "text": [
      "when you walked by i saw a small tear in your eye lifted you up and threw you into the sun when you returned you were a little burned but you learned the secret of it all and you thought that you would burn but thatd be too easy it was only the end of the beginning cause now it can be elvis and me i thought you knew what it was that i had to do never occurred that you would just roll over i had to go not very long though you know guess for you it was an eternity and if you think youve got it now go start your crying its gonna be different when im home cause its gonna be elvis and me its just elvis and me its gonna be elvis and me just elvis and me just elvis and me and if you think youve got it now go start your crying its gonna be different when im home cause its gonna be elvis and me i wish i could fix it so that you understood if i cracked my head it would bleed like mercury the pieces of the poison raining above wont touch you now ill never let it again so if you think youve got it now continue your crying its gonna be different when im home cause its gonna be elvis and me its just elvis and me its always been elvis and me just elvis and me \n",
      "\n",
      "Sad \n",
      "\n",
      "hey battle cat its your dog bitch snoopy do double g aka i was thinking we need to take it back to the way it used to be you feel me yeah come on yeah drift with me drift with me come on drift with me yall take it back to the afros and the naturals kate cut it pits we slips into the backbones oh g my nigga for real dont straight up on the east side top of the hill yeah im looking at the over view take it bow 86 damn i look overdue walking in the hood making mix tapes tryin to walk about the hood while im chalking up the hood nigga talk about the hood that i came from it braves me thats real crip crazy what up oopsie daisy demon or a heathen speedin while im dreamin screamin micky deedin seein is believin and dont you forget that get it to you get back hit that kick back three flies one away reminiscin bout the things that my grandmama used to say stay in your own lane stay on your own and quick tryin to be grown day turn to night and play turn the fight its all right gee i guess my granny was right reflections of the way life used to be its all right i like the girls from the darin heights or the girls on heels i take a trip up to world on wheels and get in a fight make it back to my bride pop shots thats some fuckers disrespectin the side my big homie my hustle schoolyard bozo slid me the way just to get me the way im a long beach nigga outside of my hood im banging right but doin it good and when i get locked down aint no hidin and wonderin as soon as i hit the county im mockin fortyeight hundred put the dillers the killers the rillas the beasts the best from the west and the beast from the east yeah im actin a fool im gettin my degree from gladiator school i chose this life cause i knows this life sell a little crack and my flows is tight im playin my choice and whats cold is i can still here my grandmas voice she say day turn to night and play turn the fight its all right shit i guess my granny was right reflections of the way life used to be its all right if you get caught and you dont walk cause you dont talk and these was the rules squeeze on as fools i came up in a different era homie where the gs hit the gs and the little wannabes really homie wanna be like cause they see like make you wanna g like now who you wanna be like snoop that fool on the tv screen or the homie on the corner getting major cream in a cadillac beatin like battle cat a nigga with money who dont know how to act smoke to your eyes get cataracts all money not six yeah none of that hold a sec run it back hold it back rock him up bag him up fight him back if the trick ruckers rat do you want your money back know this was a money rat watch for the funny act cause this dont come and my granny said its no fun she say day turn to night and play turn the fight its all right gee i guess my granny was right reflections of the way life used to be its all right \n",
      "\n",
      "Neutral \n",
      "\n",
      "al kooper spoken house in the country take one no need to worry folks in a hurry leave them behind you no one can find you house in the country house in the country all the relaxin will soon fill the cracks in good for your head too if you are led to house in the country house in the country green surrounding love abounding you wont find a manhole there yes yes i need you come let me feed you ive never tried to come let me hide you house in the country house in the country i have never brought anybody there bring your own chair to sleep in when we arrive after the drive then you can shower and talk for an hour then sleep in your chair instrumental interlude sleep on the floor there dont ask for more there sun wakes you up too glad you came up to house in the country house in the country la la la la la etc house in the country x4 explain request × \n",
      "\n",
      "Happy \n",
      "\n",
      "its already friday and soon itll be friday night and if youve got something planned i suppose ill understand but give me half an hour and ill meet you in the gardens ill probably be waiting under the rotunda if its raining and somewhere near the seesaws if its not we can wander round the football ground as the sun sets on the grandstand if it gets a little cold there we can hold hands in the goal square its getting dark and baby dont the shops shine bright ive been here for hours i cant see the florist for the flowers and i cant see the point in hanging around i know weve done all this before but once more wont hurt so lets do it once more bereft of ideas we live here but were sightseers somewhere over the railway line theres a light on in your loungeroom do you remember when i found you fast asleep you were so slow to your feet i didnt mean to yell its just that im a little jealous cause you can do the rubiks cube and i cant i relied on blind faith and dumb luck but eventually the stickers came unstuck i know weve done all this before but once more wont hurt so lets do it once more bereft of ideas we live here but were sightseers train robbers wives world encyclopedia of twentieth century murder the invention of ordinary everyday things punchlines columns o steam up wyoming little athletics lyrics lyrics l l the lucksmiths the lucksmiths under the rotunda lyrics \n",
      "\n",
      "Happy \n",
      "\n",
      "listen while you read judy wrote the saddest song she showed it to a boy in school today judy where did you go wrong you used to make me smile when i was down judy was a teenage rebel she did it with a boy when she was young she gave herself the books and learning she gave herself to being number one judy i dont know you if youre gonna show me everything judy i dont know you if youre gonna show me everything judy got a book at school she went under the covers with her torch she fell asleep till it was morning she dreamt about the girl who stole a horse judy never felt so good except when she was sleeping judy never felt so good except when she was sleeping judy lets go for a walk we can kiss and do whatever you want but you will be disappointed you will fall asleep with ants in your pants judy youre just trying to find and keep the dream of horses and the song she wrote was judy and the dream of horses dream of horses you dream of horses you dream of horses the best looking boys are taken the best looking girls are staying inside so judy where does that lead you walking the street from morning to night with a star upon your shoulder lighting up the path that you walk with a parrot on your shoulder saying everything when you talk if youre ever feeling blue then write another song about your dream of horses write a song about your dream of horses call it judy and the dream of horses call it judy and the dream of horses you dream of horses you dream of horses you dream of horses you dream of horses \n",
      "\n",
      "Sad \n",
      "\n"
     ]
    }
   ],
   "source": [
    "# Show a preview of the annotations for my ground truth\n",
    "ground_truth = pd.read_csv(\"my_ground_truth.csv\")\n",
    "for sample_number in range(0, 5):\n",
    "    print(list(ground_truth[\"Lyrics\"])[sample_number], \"\\n\")\n",
    "    print(list(ground_truth[\"MyAnswer\"])[sample_number], \"\\n\")"
   ]
  },
  {
   "cell_type": "markdown",
   "metadata": {},
   "source": [
    "<p>&nbsp;</p>\n",
    "\n",
    "### **Experimental Outcome**\n",
    "\n",
    "<p>&nbsp;</p>\n",
    "\n",
    "<font size = \"3\">\n",
    "\n",
    "It took about an hour to get all of the labels. While the turkers were initially found almost immediately, two of them took about 30 minutes to finish and the other one took about an hour to finish. I was expecting the assignment to take about 30 minutes. I think it is a good sign that the turkers were taking their time, hopefully they read through the song lyrics and made the best and honest conclusion they could.\n",
    "\n",
    "<p>&nbsp;</p>"
   ]
  },
  {
   "cell_type": "markdown",
   "metadata": {},
   "source": [
    "<p>&nbsp;</p>\n",
    "\n",
    "### **Results Exploration**\n",
    "\n",
    "<p>&nbsp;</p>\n",
    "\n",
    "<font size = \"3\">\n",
    "\n",
    "Taking a look at the amount of time in seconds that it took each turker to complete each label might be an indication into if there was any spam. For example, what if one turker took 5 minutes but another turker was able to do it in 20 seconds? Furthermore, what if there was disagreement on the label? In the following section, I will explore this phenomena little bit more with hopes to flag some of the songs where this anomaly may have occurred.\n",
    "\n",
    "<p>&nbsp;</p>"
   ]
  },
  {
   "cell_type": "code",
   "execution_count": 13,
   "metadata": {},
   "outputs": [
    {
     "data": {
      "image/png": "[encoded data removed]",
      "text/plain": [
       "<Figure size 432x288 with 1 Axes>"
      ]
     },
     "metadata": {
      "needs_background": "light"
     },
     "output_type": "display_data"
    }
   ],
   "source": [
    "# Show a distribution for turker1\n",
    "import matplotlib.pyplot as plt\n",
    "turker1.WorkTimeInSeconds.hist()\n",
    "plt.show()"
   ]
  },
  {
   "cell_type": "code",
   "execution_count": 14,
   "metadata": {},
   "outputs": [
    {
     "data": {
      "image/png": "[encoded data removed]",
      "text/plain": [
       "<Figure size 432x288 with 1 Axes>"
      ]
     },
     "metadata": {
      "needs_background": "light"
     },
     "output_type": "display_data"
    }
   ],
   "source": [
    "# Show a distribution for turker2\n",
    "turker2.WorkTimeInSeconds.hist()\n",
    "plt.show()"
   ]
  },
  {
   "cell_type": "code",
   "execution_count": 15,
   "metadata": {},
   "outputs": [
    {
     "data": {
      "image/png": "[encoded data removed]",
      "text/plain": [
       "<Figure size 432x288 with 1 Axes>"
      ]
     },
     "metadata": {
      "needs_background": "light"
     },
     "output_type": "display_data"
    }
   ],
   "source": [
    "# Show a distribution for turker3\n",
    "turker3.WorkTimeInSeconds.hist()\n",
    "plt.show()"
   ]
  },
  {
   "cell_type": "code",
   "execution_count": 18,
   "metadata": {},
   "outputs": [
    {
     "data": {
      "text/html": [
       "<div>\n",
       "<style scoped>\n",
       "    .dataframe tbody tr th:only-of-type {\n",
       "        vertical-align: middle;\n",
       "    }\n",
       "\n",
       "    .dataframe tbody tr th {\n",
       "        vertical-align: top;\n",
       "    }\n",
       "\n",
       "    .dataframe thead th {\n",
       "        text-align: right;\n",
       "    }\n",
       "</style>\n",
       "<table border=\"1\" class=\"dataframe\">\n",
       "  <thead>\n",
       "    <tr style=\"text-align: right;\">\n",
       "      <th></th>\n",
       "      <th>T1</th>\n",
       "      <th>T2</th>\n",
       "      <th>T</th>\n",
       "    </tr>\n",
       "  </thead>\n",
       "  <tbody>\n",
       "    <tr>\n",
       "      <th>T1</th>\n",
       "      <td>1.000000</td>\n",
       "      <td>0.189394</td>\n",
       "      <td>0.067702</td>\n",
       "    </tr>\n",
       "    <tr>\n",
       "      <th>T2</th>\n",
       "      <td>0.189394</td>\n",
       "      <td>1.000000</td>\n",
       "      <td>-0.004448</td>\n",
       "    </tr>\n",
       "    <tr>\n",
       "      <th>T</th>\n",
       "      <td>0.067702</td>\n",
       "      <td>-0.004448</td>\n",
       "      <td>1.000000</td>\n",
       "    </tr>\n",
       "  </tbody>\n",
       "</table>\n",
       "</div>"
      ],
      "text/plain": [
       "          T1        T2         T\n",
       "T1  1.000000  0.189394  0.067702\n",
       "T2  0.189394  1.000000 -0.004448\n",
       "T   0.067702 -0.004448  1.000000"
      ]
     },
     "execution_count": 18,
     "metadata": {},
     "output_type": "execute_result"
    }
   ],
   "source": [
    "# Show a correlation matrix\n",
    "pd.DataFrame(list(zip(\n",
    "    turker1.WorkTimeInSeconds,\n",
    "    turker2.WorkTimeInSeconds,\n",
    "    turker3.WorkTimeInSeconds)),\n",
    "    columns = [\"T1\", \"T2\", \"T\"]\n",
    ").corr()"
   ]
  },
  {
   "cell_type": "markdown",
   "metadata": {},
   "source": [
    "<p>&nbsp;</p>\n",
    "\n",
    "<font size = \"3\">\n",
    "\n",
    "The amount of time it took the turkers to answer the questions was not consistent. Looking at the distributions, it is evident that each turker answered most of the questions relatively fast, but then some of the questions were answered very slow. It is possible that some of the songs just took longer to read than others. But then I would expect that the turkers would answer the same questions fast and the same questions slow. This was not the case, the correlation matrix shows that there is little to no correlation between any of the turkers. I wonder if the reason for the inconsistency is because the turkers were multitasking or got distracted. Next I will look at the Cohen's Kappa scores between the turkers to see how similar their answers were.\n",
    "\n",
    "<p>&nbsp;</p>"
   ]
  },
  {
   "cell_type": "code",
   "execution_count": 28,
   "metadata": {},
   "outputs": [
    {
     "name": "stdout",
     "output_type": "stream",
     "text": [
      "0.04610655737704916\n",
      "0.12984647410876926\n",
      "0.15642746515229733\n"
     ]
    }
   ],
   "source": [
    "# Calculate the pair wise cohens kappa scores for the turkers\n",
    "from sklearn.metrics import cohen_kappa_score\n",
    "\n",
    "print(cohen_kappa_score(\n",
    "    turker1[\"Answer.Audio Valence.label\"],\n",
    "    turker2[\"Answer.Audio Valence.label\"]))\n",
    "\n",
    "print(cohen_kappa_score(\n",
    "    turker1[\"Answer.Audio Valence.label\"],\n",
    "    turker3[\"Answer.Audio Valence.label\"]\n",
    "))\n",
    "\n",
    "print(cohen_kappa_score(\n",
    "    turker2[\"Answer.Audio Valence.label\"],\n",
    "    turker3[\"Answer.Audio Valence.label\"]\n",
    "))"
   ]
  },
  {
   "cell_type": "code",
   "execution_count": 30,
   "metadata": {},
   "outputs": [
    {
     "data": {
      "text/plain": [
       "0.11066666666666665"
      ]
     },
     "execution_count": 30,
     "metadata": {},
     "output_type": "execute_result"
    }
   ],
   "source": [
    "# What is the average kappa score for the turkers\n",
    "(0.046 + 0.130 + 0.156) / 3"
   ]
  },
  {
   "cell_type": "code",
   "execution_count": 32,
   "metadata": {},
   "outputs": [
    {
     "name": "stdout",
     "output_type": "stream",
     "text": [
      "0.05983337541024991\n",
      "-0.04223806911684047\n",
      "0.09896907216494844\n"
     ]
    }
   ],
   "source": [
    "# Calculate the kappa score for each turker and my ground truth\n",
    "print(cohen_kappa_score(\n",
    "    ground_truth[\"MyAnswer\"],\n",
    "    turker1[\"Answer.Audio Valence.label\"]\n",
    "))\n",
    "\n",
    "print(cohen_kappa_score(\n",
    "    ground_truth[\"MyAnswer\"],\n",
    "    turker2[\"Answer.Audio Valence.label\"]\n",
    "))\n",
    "\n",
    "print(cohen_kappa_score(\n",
    "    ground_truth[\"MyAnswer\"],\n",
    "    turker3[\"Answer.Audio Valence.label\"]\n",
    "))"
   ]
  },
  {
   "cell_type": "code",
   "execution_count": 36,
   "metadata": {},
   "outputs": [
    {
     "name": "stdout",
     "output_type": "stream",
     "text": [
      "Turker 1\n",
      "Happy      28\n",
      "Sad        27\n",
      "Neutral    21\n",
      "Name: Answer.Audio Valence.label, dtype: int64 \n",
      "\n",
      "Turker 2\n",
      "Neutral    34\n",
      "Happy      24\n",
      "Sad        18\n",
      "Name: Answer.Audio Valence.label, dtype: int64 \n",
      "\n",
      "Turker 3\n",
      "Sad        27\n",
      "Happy      25\n",
      "Neutral    24\n",
      "Name: Answer.Audio Valence.label, dtype: int64 \n",
      "\n",
      "Ground Truth\n",
      "Neutral    42\n",
      "Sad        19\n",
      "Happy      15\n",
      "Name: MyAnswer, dtype: int64 \n",
      "\n"
     ]
    }
   ],
   "source": [
    "# What were the marginal distributions for each of the turkers and me?\n",
    "print(\"Turker 1\")\n",
    "print(turker1[\"Answer.Audio Valence.label\"].value_counts(), \"\\n\")\n",
    "print(\"Turker 2\")\n",
    "print(turker2[\"Answer.Audio Valence.label\"].value_counts(), \"\\n\")\n",
    "print(\"Turker 3\")\n",
    "print(turker3[\"Answer.Audio Valence.label\"].value_counts(), \"\\n\")\n",
    "print(\"Ground Truth\")\n",
    "print(ground_truth[\"MyAnswer\"].value_counts(), \"\\n\")"
   ]
  },
  {
   "cell_type": "markdown",
   "metadata": {},
   "source": [
    "<p>&nbsp;</p>\n",
    "\n",
    "### **Conclusion**\n",
    "\n",
    "<p>&nbsp;</p>\n",
    "\n",
    "<font size = \"3\">\n",
    "\n",
    "There was not a lot of agreement between the turkers and myself. The highest kappa score was a 0.15 between turker 2 and 3. I was a little bit surprised at first to see that there was so much disagreement. I think that the ambiguity is the main reason for the discrepancies. It is difficult to decide whether a song is sad, neutral, or happy just based on the lyrics. I think part of that is because there is no way to tell what the sounds are like. This is why I picked neutral for a lot of my annotations because I could not decipher one way or another.\n",
    "\n",
    "Although there is not much else to say about the results of this experiment, I did learn an important lesson about using human annotators. It is paramoount that the instructions are clear and that the labels are not ambiguous. In other words, try to be objective as possible. This will leave little room for subjectivity and hopefully lead to more consistent results across annotators and a better cohens kappa score.\n",
    "\n",
    "<p>&nbsp;</p>"
   ]
  }
 ],
 "metadata": {
  "interpreter": {
   "hash": "837a5e7ae28b4e198c1d8cf4796a058d56e0b65e3e1483208ccae61f9a209f4c"
  },
  "kernelspec": {
   "display_name": "Python 3.8.8 64-bit ('base': conda)",
   "language": "python",
   "name": "python3"
  },
  "language_info": {
   "codemirror_mode": {
    "name": "ipython",
    "version": 3
   },
   "file_extension": ".py",
   "mimetype": "text/x-python",
   "name": "python",
   "nbconvert_exporter": "python",
   "pygments_lexer": "ipython3",
   "version": "3.8.8"
  },
  "orig_nbformat": 4
 },
 "nbformat": 4,
 "nbformat_minor": 2
}
